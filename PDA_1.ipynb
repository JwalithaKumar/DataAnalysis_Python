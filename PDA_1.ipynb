{
 "cells": [
  {
   "cell_type": "markdown",
   "id": "a7492853-bc60-41eb-aedb-ce8ea3a77c76",
   "metadata": {},
   "source": [
    "Basics"
   ]
  },
  {
   "cell_type": "code",
   "execution_count": 4,
   "id": "28e476dd-1d25-41ea-ae36-7ab639c90608",
   "metadata": {
    "scrolled": true
   },
   "outputs": [
    {
     "name": "stdout",
     "output_type": "stream",
     "text": [
      "<class 'int'>\n",
      "<class 'float'>\n"
     ]
    }
   ],
   "source": [
    "a = 90\n",
    "b = 98.5\n",
    "print(type(a))\n",
    "print(type(b))"
   ]
  },
  {
   "cell_type": "code",
   "execution_count": 10,
   "id": "801bd1c1-9e74-479f-9042-cb64f547e69a",
   "metadata": {},
   "outputs": [
    {
     "name": "stdout",
     "output_type": "stream",
     "text": [
      "188.5\n"
     ]
    }
   ],
   "source": [
    "print((a+b))"
   ]
  },
  {
   "cell_type": "code",
   "execution_count": 12,
   "id": "64ac11f8-8006-475b-864a-1ca5a1cd9571",
   "metadata": {},
   "outputs": [
    {
     "data": {
      "text/plain": [
       "str"
      ]
     },
     "execution_count": 12,
     "metadata": {},
     "output_type": "execute_result"
    }
   ],
   "source": [
    "num = \"90\"\n",
    "type(num)"
   ]
  },
  {
   "cell_type": "markdown",
   "id": "497e5892-ffb6-4206-ae6f-ad165a488539",
   "metadata": {},
   "source": [
    "Membership"
   ]
  },
  {
   "cell_type": "code",
   "execution_count": 21,
   "id": "6d4cf194-be71-4556-9c3a-53ac756a3119",
   "metadata": {},
   "outputs": [
    {
     "name": "stdout",
     "output_type": "stream",
     "text": [
      "False\n"
     ]
    }
   ],
   "source": [
    "lst1 = [90, 67, 45, 23]\n",
    "print(90 not in lst1)"
   ]
  },
  {
   "cell_type": "code",
   "execution_count": 23,
   "id": "54be62f7-06c8-484a-85f8-094dc875da6d",
   "metadata": {},
   "outputs": [
    {
     "name": "stdout",
     "output_type": "stream",
     "text": [
      "True\n"
     ]
    }
   ],
   "source": [
    "lst1 = [90, 67, 45, 23]\n",
    "print(90 in lst1)"
   ]
  },
  {
   "cell_type": "markdown",
   "id": "0d08e6e3-f8f3-4985-bc6f-a2138bc3a961",
   "metadata": {},
   "source": [
    "Functions"
   ]
  },
  {
   "cell_type": "code",
   "execution_count": 27,
   "id": "c7a65cc9-d1bf-4c7d-91de-4b8d84b6e90a",
   "metadata": {},
   "outputs": [],
   "source": [
    "def addition (a, b):\n",
    "    return a+b"
   ]
  },
  {
   "cell_type": "code",
   "execution_count": 29,
   "id": "4ffbbf35-8bb3-4100-bb37-5ed920215b53",
   "metadata": {},
   "outputs": [
    {
     "data": {
      "text/plain": [
       "112"
      ]
     },
     "execution_count": 29,
     "metadata": {},
     "output_type": "execute_result"
    }
   ],
   "source": [
    "addition(45,67)"
   ]
  },
  {
   "cell_type": "code",
   "execution_count": 31,
   "id": "d356c5ce-88ea-485f-a9a2-33de0f87c009",
   "metadata": {},
   "outputs": [],
   "source": [
    "def taxcal (S, T):\n",
    "    Tax = ((T/100)*S)\n",
    "    return Tax"
   ]
  },
  {
   "cell_type": "code",
   "execution_count": 34,
   "id": "9f49ce6c-8ce9-4fda-b890-8dd6263e0607",
   "metadata": {},
   "outputs": [
    {
     "data": {
      "text/plain": [
       "5000.0"
      ]
     },
     "execution_count": 34,
     "metadata": {},
     "output_type": "execute_result"
    }
   ],
   "source": [
    "taxcal(50000, 10)"
   ]
  },
  {
   "cell_type": "markdown",
   "id": "fc325f9e-ffb6-47b8-8a2f-1ba459414db5",
   "metadata": {},
   "source": [
    "Write a program for tax deduction:\n",
    "1. if salary is less than 10000, apply 5% tax\n",
    "2. Salary is more than 10000 but less than 50000, apply 10% tax\n",
    "3. Salary is more than 50000 but less than 2,00,000 apply 15% tax\n",
    "4. If salary is more than 2lakhs , apply 20% tax"
   ]
  },
  {
   "cell_type": "code",
   "execution_count": 37,
   "id": "57d89669-db9a-47b6-847f-80ca9840ad46",
   "metadata": {},
   "outputs": [],
   "source": [
    "def tax(sal):\n",
    "    if sal>0 and sal<10000:   # 1 to 9999\n",
    "        return 0.05*sal\n",
    "    elif sal>=10000 and sal<50000:  #10000 to 49999\n",
    "        return 0.1*sal\n",
    "    elif sal>=50000 and sal<200000:\n",
    "        return 0.15*sal\n",
    "    elif sal>=200000:\n",
    "        return 0.20*sal\n",
    "    else:\n",
    "        return \"Invalid\""
   ]
  },
  {
   "cell_type": "code",
   "execution_count": 39,
   "id": "a7762716-47f6-4fe6-be5e-6b38c9c6b012",
   "metadata": {},
   "outputs": [
    {
     "data": {
      "text/plain": [
       "'Invalid'"
      ]
     },
     "execution_count": 39,
     "metadata": {},
     "output_type": "execute_result"
    }
   ],
   "source": [
    "tax(0)"
   ]
  },
  {
   "cell_type": "code",
   "execution_count": 41,
   "id": "c23d76da-9893-4cea-b292-b534c5155f14",
   "metadata": {},
   "outputs": [
    {
     "data": {
      "text/plain": [
       "'Invalid'"
      ]
     },
     "execution_count": 41,
     "metadata": {},
     "output_type": "execute_result"
    }
   ],
   "source": [
    "tax(-9000)"
   ]
  },
  {
   "cell_type": "code",
   "execution_count": 43,
   "id": "1b0ed07c-25e6-4df8-8954-0edb8b3689a5",
   "metadata": {},
   "outputs": [
    {
     "data": {
      "text/plain": [
       "13500.0"
      ]
     },
     "execution_count": 43,
     "metadata": {},
     "output_type": "execute_result"
    }
   ],
   "source": [
    "tax(90000)"
   ]
  },
  {
   "cell_type": "code",
   "execution_count": 45,
   "id": "41023115-d141-4e57-b7e7-af7daae00ffd",
   "metadata": {},
   "outputs": [
    {
     "data": {
      "text/plain": [
       "40000.0"
      ]
     },
     "execution_count": 45,
     "metadata": {},
     "output_type": "execute_result"
    }
   ],
   "source": [
    "tax(200000)"
   ]
  },
  {
   "cell_type": "markdown",
   "id": "550149a2-7f05-47c3-8d97-0c1b537b1423",
   "metadata": {},
   "source": [
    "Loops"
   ]
  },
  {
   "cell_type": "markdown",
   "id": "1ad00823-819b-41b2-8a6e-94ec27ad54b7",
   "metadata": {},
   "source": [
    "w = [67, 45, 23, 50]\n",
    "h = [160, 127, 140, 187]\n",
    "output: bmi = w / h^2"
   ]
  },
  {
   "cell_type": "code",
   "execution_count": 53,
   "id": "c4ec2886-19d9-4acf-b405-43f2906befc5",
   "metadata": {},
   "outputs": [
    {
     "name": "stdout",
     "output_type": "stream",
     "text": [
      "26.171874999999996\n",
      "27.900055800111602\n",
      "11.734693877551022\n",
      "14.298378563870855\n"
     ]
    }
   ],
   "source": [
    "w = [67, 45, 23, 50]  #kg\n",
    "h = [1.6, 1.27, 1.40, 1.87]  #meters\n",
    "for i,j in zip(w,h):\n",
    "    print(i / (j*j))"
   ]
  },
  {
   "cell_type": "code",
   "execution_count": 55,
   "id": "4e71382a-d1c1-4129-8b8f-cf5faabfd1f3",
   "metadata": {},
   "outputs": [
    {
     "name": "stdout",
     "output_type": "stream",
     "text": [
      "26.171874999999996\n",
      "27.900055800111602\n",
      "11.734693877551022\n",
      "14.298378563870855\n"
     ]
    }
   ],
   "source": [
    "for i in range(len(w)):  #0 to 4 --> 0,1,2,3\n",
    "    print(w[i] / (h[i]*h[i]))"
   ]
  },
  {
   "cell_type": "markdown",
   "id": "14c6c712-4826-4a2b-93f9-769c4fb0446b",
   "metadata": {},
   "source": [
    "# Numpy"
   ]
  },
  {
   "cell_type": "markdown",
   "id": "1b698e03-a538-432e-b03c-4438d5a0959c",
   "metadata": {},
   "source": [
    "Create"
   ]
  },
  {
   "cell_type": "code",
   "execution_count": 59,
   "id": "fbf48e91-fd5e-4931-abda-b6d9016f5c5c",
   "metadata": {},
   "outputs": [
    {
     "name": "stdout",
     "output_type": "stream",
     "text": [
      "[90, 56, 12, 34, 78, 45, 55, 67]\n"
     ]
    }
   ],
   "source": [
    "lst1 = [90, 56, 12, 34]\n",
    "lst2 = [78, 45,55, 67]\n",
    "print(lst1+lst2)"
   ]
  },
  {
   "cell_type": "code",
   "execution_count": 61,
   "id": "4119b9f1-1cce-47f1-9026-51f92fd77b5e",
   "metadata": {},
   "outputs": [
    {
     "name": "stdout",
     "output_type": "stream",
     "text": [
      "[168 101  67 101]\n"
     ]
    }
   ],
   "source": [
    "import numpy as np\n",
    "ar1 = np.array([90, 56, 12, 34])\n",
    "ar2 = np.array( [78, 45,55, 67])\n",
    "print(ar1+ar2)"
   ]
  },
  {
   "cell_type": "code",
   "execution_count": 67,
   "id": "8f4ea2ce-0400-4eb2-8802-2ead935981c1",
   "metadata": {},
   "outputs": [
    {
     "name": "stdout",
     "output_type": "stream",
     "text": [
      "[[0. 0. 0.]\n",
      " [0. 0. 0.]]\n"
     ]
    }
   ],
   "source": [
    "arr1 = np.zeros((2,3))\n",
    "print(arr1)"
   ]
  },
  {
   "cell_type": "code",
   "execution_count": 69,
   "id": "33099a0b-4517-4ebf-ac9f-c1b999a33b99",
   "metadata": {},
   "outputs": [
    {
     "name": "stdout",
     "output_type": "stream",
     "text": [
      "[[1. 1. 1.]\n",
      " [1. 1. 1.]]\n"
     ]
    }
   ],
   "source": [
    "arr2 = np.ones((2,3))\n",
    "print(arr2)"
   ]
  },
  {
   "cell_type": "code",
   "execution_count": 73,
   "id": "9a5fac16-924d-43e0-b292-5a8cd8794cf6",
   "metadata": {},
   "outputs": [
    {
     "name": "stdout",
     "output_type": "stream",
     "text": [
      "[[1. 0. 0.]\n",
      " [0. 1. 0.]\n",
      " [0. 0. 1.]]\n"
     ]
    }
   ],
   "source": [
    "arr3 = np.eye(3)\n",
    "print(arr3)"
   ]
  },
  {
   "cell_type": "code",
   "execution_count": 79,
   "id": "512faadb-6cac-474b-a7b3-4b439cff9b69",
   "metadata": {},
   "outputs": [
    {
     "name": "stdout",
     "output_type": "stream",
     "text": [
      "[[3 4 5]\n",
      " [9 5 0]]\n",
      "2\n"
     ]
    }
   ],
   "source": [
    "arr4 = np.array([[3,4,5], [9,5,0]])\n",
    "print(arr4)\n",
    "print(np.ndim(arr4))"
   ]
  },
  {
   "cell_type": "code",
   "execution_count": 118,
   "id": "142f74ae-2028-40ca-8aab-0e130ba067a5",
   "metadata": {},
   "outputs": [
    {
     "name": "stdout",
     "output_type": "stream",
     "text": [
      "[[10 11 12 13 14]\n",
      " [15 16 17 18 19]\n",
      " [20 21 22 23 24]\n",
      " [25 26 27 28 29]\n",
      " [30 31 32 33 34]\n",
      " [35 36 37 38 39]\n",
      " [40 41 42 43 44]\n",
      " [45 46 47 48 49]]\n",
      "(8, 5)\n"
     ]
    }
   ],
   "source": [
    "arr6 = np.arange(10,50).reshape(8,5)\n",
    "print(arr6)\n",
    "print(np.shape(arr6))"
   ]
  },
  {
   "cell_type": "code",
   "execution_count": 122,
   "id": "b8d5c9ec-24a3-4f4e-b5db-81990e5c1416",
   "metadata": {},
   "outputs": [
    {
     "name": "stdout",
     "output_type": "stream",
     "text": [
      "[   8   16   24   32   40   48   56   64   72   80   88   96  104  112\n",
      "  120  128  136  144  152  160  168  176  184  192  200  208  216  224\n",
      "  232  240  248  256  264  272  280  288  296  304  312  320  328  336\n",
      "  344  352  360  368  376  384  392  400  408  416  424  432  440  448\n",
      "  456  464  472  480  488  496  504  512  520  528  536  544  552  560\n",
      "  568  576  584  592  600  608  616  624  632  640  648  656  664  672\n",
      "  680  688  696  704  712  720  728  736  744  752  760  768  776  784\n",
      "  792  800  808  816  824  832  840  848  856  864  872  880  888  896\n",
      "  904  912  920  928  936  944  952  960  968  976  984  992 1000]\n",
      "<class 'numpy.ndarray'>\n"
     ]
    }
   ],
   "source": [
    "arr7 = np.arange(8,1001,8)  #start, stop, step\n",
    "print(arr7)\n",
    "print(type(arr7))"
   ]
  },
  {
   "cell_type": "code",
   "execution_count": 124,
   "id": "82d899fa-8780-4509-922c-f2a108ce2373",
   "metadata": {},
   "outputs": [
    {
     "name": "stdout",
     "output_type": "stream",
     "text": [
      "[  7  14  21  28  35  42  49  56  63  70  77  84  91  98 105 112 119 126\n",
      " 133 140 147 154 161 168 175 182 189 196 203 210 217 224 231 238 245 252\n",
      " 259 266 273 280 287 294 301 308 315 322 329 336 343 350 357 364 371 378\n",
      " 385 392 399 406 413 420 427 434 441 448 455 462 469 476 483 490 497 504\n",
      " 511 518 525 532 539 546 553 560 567 574 581 588 595 602 609 616 623 630\n",
      " 637 644 651 658 665 672 679 686 693 700]\n"
     ]
    }
   ],
   "source": [
    "mult_seven= np.arange(7, 701, 7)\n",
    "print(mult_seven)"
   ]
  },
  {
   "cell_type": "code",
   "execution_count": 134,
   "id": "30da2d9d-d030-4b16-a7a8-62fb5e4b20b4",
   "metadata": {},
   "outputs": [
    {
     "name": "stdout",
     "output_type": "stream",
     "text": [
      "[2.  3.2 4.4 5.6 6.8 8. ]\n"
     ]
    }
   ],
   "source": [
    "arr9 = np.linspace(2,8,6) #generate 6 evenly spaced values between 2 & 8 (included)\n",
    "print(arr9)"
   ]
  },
  {
   "cell_type": "code",
   "execution_count": 132,
   "id": "c99957fc-cd38-42d7-96f7-1d1541a1e4c2",
   "metadata": {},
   "outputs": [
    {
     "name": "stdout",
     "output_type": "stream",
     "text": [
      "[[[1 2 3]\n",
      "  [6 7 8]]\n",
      "\n",
      " [[4 5 2]\n",
      "  [3 6 0]]]\n",
      "(2, 2, 3)\n",
      "3\n"
     ]
    }
   ],
   "source": [
    "arr10 = np.array ( [ [[1,2,3], [6,7,8]], [[4,5,2], [3,6,0]] ])\n",
    "print(arr10)\n",
    "print(np.shape(arr10))  # group, row, column\n",
    "print(np.ndim(arr10))  "
   ]
  },
  {
   "cell_type": "markdown",
   "id": "2af5f111-35f0-4b4b-9da7-416454d5208d",
   "metadata": {},
   "source": [
    "Modify"
   ]
  },
  {
   "cell_type": "code",
   "execution_count": 103,
   "id": "2be59cf7-d9f8-49a2-b085-d8e3727b0f21",
   "metadata": {},
   "outputs": [],
   "source": [
    "arr5 = np.array([6,7,8,9,9,4,2,1])"
   ]
  },
  {
   "cell_type": "code",
   "execution_count": 105,
   "id": "e4ab6332-9128-4efc-8037-2c2e7b553b6a",
   "metadata": {},
   "outputs": [
    {
     "data": {
      "text/plain": [
       "array([[6, 7],\n",
       "       [8, 9],\n",
       "       [9, 4],\n",
       "       [2, 1]])"
      ]
     },
     "execution_count": 105,
     "metadata": {},
     "output_type": "execute_result"
    }
   ],
   "source": [
    "arr5.reshape(4,2)"
   ]
  },
  {
   "cell_type": "code",
   "execution_count": 107,
   "id": "ad8527d3-1bcd-475a-9fdb-1cc03c3c769a",
   "metadata": {},
   "outputs": [
    {
     "data": {
      "text/plain": [
       "array([6, 7, 8, 9, 9, 4, 2, 1])"
      ]
     },
     "execution_count": 107,
     "metadata": {},
     "output_type": "execute_result"
    }
   ],
   "source": [
    "arr5"
   ]
  },
  {
   "cell_type": "code",
   "execution_count": 97,
   "id": "8dde3519-15fc-4421-b3df-55d6bfd64c13",
   "metadata": {},
   "outputs": [],
   "source": [
    "arr6 = np.array([6,7,8,9,9,4,2,1])"
   ]
  },
  {
   "cell_type": "code",
   "execution_count": 99,
   "id": "6c5c388e-32a6-4b04-9500-c2774053104a",
   "metadata": {},
   "outputs": [],
   "source": [
    "arr6.resize(4,2)"
   ]
  },
  {
   "cell_type": "code",
   "execution_count": 101,
   "id": "27fe71a7-d269-4860-a132-e264aa1ce882",
   "metadata": {},
   "outputs": [
    {
     "data": {
      "text/plain": [
       "array([[6, 7],\n",
       "       [8, 9],\n",
       "       [9, 4],\n",
       "       [2, 1]])"
      ]
     },
     "execution_count": 101,
     "metadata": {},
     "output_type": "execute_result"
    }
   ],
   "source": [
    "arr6"
   ]
  },
  {
   "cell_type": "markdown",
   "id": "fcc55a61-0a56-436b-b9f9-cd89ef12bd84",
   "metadata": {},
   "source": [
    "Matrix Operations"
   ]
  },
  {
   "cell_type": "code",
   "execution_count": 146,
   "id": "871adc43-6500-4b61-bfbd-f9d6b7119737",
   "metadata": {},
   "outputs": [
    {
     "name": "stdout",
     "output_type": "stream",
     "text": [
      "Matrix 1 : \n",
      " [[9 4]\n",
      " [6 7]]\n",
      "Matrix 2 : \n",
      " [[1 2]\n",
      " [3 4]]\n"
     ]
    }
   ],
   "source": [
    "mat1 = np.array([9,4,6,7]).reshape(2,2)\n",
    "mat2 = np.array([1,2,3,4]).reshape(2,2)\n",
    "print(\"Matrix 1 : \\n\", mat1)\n",
    "print(\"Matrix 2 : \\n\", mat2)"
   ]
  },
  {
   "cell_type": "code",
   "execution_count": 140,
   "id": "a0a8c3fd-3038-4e7f-87b9-05ab90c7afb3",
   "metadata": {},
   "outputs": [
    {
     "name": "stdout",
     "output_type": "stream",
     "text": [
      "[[ 9  8]\n",
      " [18 28]]\n"
     ]
    }
   ],
   "source": [
    "print(mat1*mat2)"
   ]
  },
  {
   "cell_type": "code",
   "execution_count": 142,
   "id": "ad16032e-87cb-40ee-aa56-ae30f7380f3a",
   "metadata": {},
   "outputs": [
    {
     "name": "stdout",
     "output_type": "stream",
     "text": [
      "[[21 34]\n",
      " [27 40]]\n"
     ]
    }
   ],
   "source": [
    "print(mat1.dot(mat2))"
   ]
  },
  {
   "cell_type": "code",
   "execution_count": 144,
   "id": "50de0d7e-f077-4d1f-8079-59c7b1680ecf",
   "metadata": {},
   "outputs": [
    {
     "name": "stdout",
     "output_type": "stream",
     "text": [
      "[[21 34]\n",
      " [27 40]]\n"
     ]
    }
   ],
   "source": [
    "print(mat1@mat2)"
   ]
  },
  {
   "cell_type": "code",
   "execution_count": 150,
   "id": "63274c87-95dc-4317-afdc-6a27c24b027d",
   "metadata": {},
   "outputs": [
    {
     "name": "stdout",
     "output_type": "stream",
     "text": [
      "[[-2.   1. ]\n",
      " [ 1.5 -0.5]]\n"
     ]
    }
   ],
   "source": [
    "print(np.linalg.inv(mat2))"
   ]
  },
  {
   "cell_type": "markdown",
   "id": "98feb43f-fa9a-446b-8f9c-639bfb540f30",
   "metadata": {},
   "source": [
    "Statistics"
   ]
  },
  {
   "cell_type": "code",
   "execution_count": 159,
   "id": "b7d36a8b-dfa9-4aa7-becc-f1653ef6acd7",
   "metadata": {},
   "outputs": [
    {
     "name": "stdout",
     "output_type": "stream",
     "text": [
      "36.666666666666664\n"
     ]
    }
   ],
   "source": [
    "ar1 = np.array([90,45,34,16,23,12])\n",
    "print(np.mean(ar1))"
   ]
  },
  {
   "cell_type": "code",
   "execution_count": 161,
   "id": "2b2bb685-a584-4d0b-b2e4-7dbfea1c52f0",
   "metadata": {},
   "outputs": [
    {
     "name": "stdout",
     "output_type": "stream",
     "text": [
      "28.5\n"
     ]
    }
   ],
   "source": [
    "print(np.median(ar1))  #12,16,23,34,45,90"
   ]
  },
  {
   "cell_type": "code",
   "execution_count": 163,
   "id": "735475e7-d79d-44c8-b8b6-8192b9b08903",
   "metadata": {},
   "outputs": [
    {
     "name": "stdout",
     "output_type": "stream",
     "text": [
      "26.278423764669668\n"
     ]
    }
   ],
   "source": [
    "print(np.std(ar1))  #root of variance"
   ]
  },
  {
   "cell_type": "code",
   "execution_count": 165,
   "id": "6dac69be-f969-4f5d-bcbc-0f3219cb8250",
   "metadata": {},
   "outputs": [
    {
     "name": "stdout",
     "output_type": "stream",
     "text": [
      "690.5555555555557\n"
     ]
    }
   ],
   "source": [
    "print(np.var(ar1))  #variance"
   ]
  },
  {
   "cell_type": "markdown",
   "id": "7d19ef32-bd79-4ad0-9c46-f906dcdbe8d3",
   "metadata": {},
   "source": [
    "Trigonometry"
   ]
  },
  {
   "cell_type": "code",
   "execution_count": 172,
   "id": "bdb6384b-7bfc-47be-82af-fa77e4c024e5",
   "metadata": {},
   "outputs": [
    {
     "name": "stdout",
     "output_type": "stream",
     "text": [
      "3.141592653589793\n"
     ]
    }
   ],
   "source": [
    "print(np.pi)"
   ]
  },
  {
   "cell_type": "code",
   "execution_count": 176,
   "id": "08c5c0db-0fea-4686-8b10-dc83fbd21a78",
   "metadata": {},
   "outputs": [
    {
     "name": "stdout",
     "output_type": "stream",
     "text": [
      "0.8939966636005579\n",
      "-0.9880316240928618\n",
      "0.8509035245341184\n"
     ]
    }
   ],
   "source": [
    "rad = [90, 30, 45]\n",
    "for i in rad:\n",
    "    print(np.sin(i))"
   ]
  },
  {
   "cell_type": "code",
   "execution_count": 178,
   "id": "ad7c668e-9b75-41a6-a4fa-5efe55c99a7f",
   "metadata": {},
   "outputs": [
    {
     "name": "stdout",
     "output_type": "stream",
     "text": [
      "0.7071067811865476\n",
      "1.0\n",
      "0.8660254037844386\n"
     ]
    }
   ],
   "source": [
    "deg = [np.pi/4 , np.pi/2, np.pi/3 ]\n",
    "for i in deg:\n",
    "    print(np.sin(i))"
   ]
  },
  {
   "cell_type": "code",
   "execution_count": 180,
   "id": "41d51872-eaaf-4b6b-8308-be5d5447b1d1",
   "metadata": {},
   "outputs": [
    {
     "name": "stdout",
     "output_type": "stream",
     "text": [
      "10.0\n"
     ]
    }
   ],
   "source": [
    "print(np.hypot(6,8))"
   ]
  },
  {
   "cell_type": "markdown",
   "id": "b54c4356-4c5a-45fa-a4ce-05367d389a51",
   "metadata": {},
   "source": [
    "Arithmetic operations"
   ]
  },
  {
   "cell_type": "code",
   "execution_count": 185,
   "id": "f9d40c5a-0660-41ef-bfd6-beacd48bc7c4",
   "metadata": {},
   "outputs": [
    {
     "name": "stdout",
     "output_type": "stream",
     "text": [
      "33\n"
     ]
    }
   ],
   "source": [
    "a = np.array([8,9,1])\n",
    "b = np.array([2,5,8])\n",
    "print(np.sum((a,b)))"
   ]
  },
  {
   "cell_type": "code",
   "execution_count": 187,
   "id": "4da12acd-cd40-4439-9437-3a93cfc18beb",
   "metadata": {},
   "outputs": [
    {
     "name": "stdout",
     "output_type": "stream",
     "text": [
      "[ 8 17 18]\n"
     ]
    }
   ],
   "source": [
    "print(np.cumsum(a))"
   ]
  },
  {
   "cell_type": "code",
   "execution_count": 193,
   "id": "1b9f7b92-244b-4c5f-9e54-75f473e42abb",
   "metadata": {},
   "outputs": [
    {
     "name": "stdout",
     "output_type": "stream",
     "text": [
      "[[ 1  2  3]\n",
      " [ 7  9  6]\n",
      " [16 10 12]]\n"
     ]
    }
   ],
   "source": [
    "c = np.array([[1,2,3], [6,7,3], [9,1,6]])\n",
    "print(np.cumsum(c, axis=0))  #column"
   ]
  },
  {
   "cell_type": "code",
   "execution_count": 195,
   "id": "a27044a1-f935-407c-983e-4b4fce5b29bb",
   "metadata": {},
   "outputs": [
    {
     "name": "stdout",
     "output_type": "stream",
     "text": [
      "[[ 1  3  6]\n",
      " [ 6 13 16]\n",
      " [ 9 10 16]]\n"
     ]
    }
   ],
   "source": [
    "print(np.cumsum(c, axis=1)) #row"
   ]
  },
  {
   "cell_type": "code",
   "execution_count": 199,
   "id": "5e0431e3-83f9-4b68-9a56-dfa754722c5b",
   "metadata": {},
   "outputs": [
    {
     "name": "stdout",
     "output_type": "stream",
     "text": [
      "5760\n"
     ]
    }
   ],
   "source": [
    "print(np.prod((a,b)))"
   ]
  },
  {
   "cell_type": "code",
   "execution_count": null,
   "id": "164d485b-e302-4d5f-8b85-7fcbee9e24ca",
   "metadata": {},
   "outputs": [],
   "source": []
  },
  {
   "cell_type": "code",
   "execution_count": 203,
   "id": "9c5e6ecc-aa39-4f69-91dc-3ca64c0645f6",
   "metadata": {},
   "outputs": [
    {
     "name": "stdout",
     "output_type": "stream",
     "text": [
      "[    1     2     6    36   252   756  6804  6804 40824]\n"
     ]
    }
   ],
   "source": [
    "print(np.cumprod(c))"
   ]
  },
  {
   "cell_type": "code",
   "execution_count": 205,
   "id": "22c9ce2a-4bff-4052-b9bf-ddc0057510bf",
   "metadata": {},
   "outputs": [
    {
     "name": "stdout",
     "output_type": "stream",
     "text": [
      "[[ 1  2  3]\n",
      " [ 6 14  9]\n",
      " [54 14 54]]\n"
     ]
    }
   ],
   "source": [
    "print(np.cumprod(c, axis = 0))"
   ]
  },
  {
   "cell_type": "code",
   "execution_count": 207,
   "id": "c7da4b1c-01e7-4d60-af70-4e7459b8f4aa",
   "metadata": {},
   "outputs": [
    {
     "name": "stdout",
     "output_type": "stream",
     "text": [
      "[[  1   2   6]\n",
      " [  6  42 126]\n",
      " [  9   9  54]]\n"
     ]
    }
   ],
   "source": [
    "print(np.cumprod(c, axis = 1))"
   ]
  },
  {
   "cell_type": "code",
   "execution_count": 209,
   "id": "e9f40678-e343-4fd5-9c09-ad17635f3c93",
   "metadata": {},
   "outputs": [
    {
     "name": "stdout",
     "output_type": "stream",
     "text": [
      "[0 1 7 2]\n"
     ]
    }
   ],
   "source": [
    "s1 = np.array([90,23,40,12])\n",
    "s2 = np.array([10,2,11,5])\n",
    "print(np.mod(s1,s2))"
   ]
  },
  {
   "cell_type": "code",
   "execution_count": 213,
   "id": "663c08c1-9db0-44ba-823e-4a41fdec500a",
   "metadata": {},
   "outputs": [
    {
     "name": "stdout",
     "output_type": "stream",
     "text": [
      "(array([ 9, 11,  3,  2]), array([0, 1, 7, 2]))\n"
     ]
    }
   ],
   "source": [
    "print(np.divmod(s1,s2))"
   ]
  },
  {
   "cell_type": "code",
   "execution_count": 331,
   "id": "7950e123-d008-4015-bda0-7472958b531e",
   "metadata": {},
   "outputs": [
    {
     "name": "stdout",
     "output_type": "stream",
     "text": [
      "9.0\n"
     ]
    }
   ],
   "source": [
    "num1 = 81\n",
    "num2 = 99\n",
    "num3 = 78\n",
    "print(np.sqrt(num1))"
   ]
  },
  {
   "cell_type": "code",
   "execution_count": 327,
   "id": "e9227072-d55a-464b-a33c-2d466acc62a2",
   "metadata": {},
   "outputs": [
    {
     "name": "stdout",
     "output_type": "stream",
     "text": [
      "891\n"
     ]
    }
   ],
   "source": [
    "print(np.lcm(num1,num2))"
   ]
  },
  {
   "cell_type": "code",
   "execution_count": 329,
   "id": "e18b2779-c6d0-4a6a-a2be-17ff9313638f",
   "metadata": {},
   "outputs": [
    {
     "name": "stdout",
     "output_type": "stream",
     "text": [
      "9\n"
     ]
    }
   ],
   "source": [
    "print(np.gcd(num1,num2))"
   ]
  },
  {
   "cell_type": "code",
   "execution_count": 341,
   "id": "79ac18c1-ba02-474b-acad-f0654b0048a3",
   "metadata": {},
   "outputs": [
    {
     "name": "stdout",
     "output_type": "stream",
     "text": [
      "268335\n"
     ]
    }
   ],
   "source": [
    "AA= [45,67,89]\n",
    "print(np.lcm.reduce(AA))"
   ]
  },
  {
   "cell_type": "code",
   "execution_count": 343,
   "id": "3bfe52b1-b646-413d-829c-ad646d8aa9cd",
   "metadata": {},
   "outputs": [
    {
     "name": "stdout",
     "output_type": "stream",
     "text": [
      "1\n"
     ]
    }
   ],
   "source": [
    "print(np.gcd.reduce(AA))"
   ]
  },
  {
   "cell_type": "code",
   "execution_count": 345,
   "id": "25db15ed-4afb-4071-b5d0-4303898d84fd",
   "metadata": {},
   "outputs": [
    {
     "name": "stdout",
     "output_type": "stream",
     "text": [
      "[ 0  5  7 23]\n"
     ]
    }
   ],
   "source": [
    "AB = np.array([0, -5, 7, -23])\n",
    "print(np.absolute(AB))\n"
   ]
  },
  {
   "cell_type": "markdown",
   "id": "0a296a82-eddb-46fd-91a6-6f2af673760a",
   "metadata": {},
   "source": [
    "Logarithms"
   ]
  },
  {
   "cell_type": "code",
   "execution_count": 348,
   "id": "a5561735-38df-4b04-81cb-03e48ca702bd",
   "metadata": {},
   "outputs": [
    {
     "name": "stdout",
     "output_type": "stream",
     "text": [
      "3.8066624897703196\n"
     ]
    }
   ],
   "source": [
    "n =  45\n",
    "print(np.log(n))  # natural log"
   ]
  },
  {
   "cell_type": "code",
   "execution_count": 350,
   "id": "eb68dd2a-0294-487d-8ac3-ef2ce52e0c96",
   "metadata": {},
   "outputs": [
    {
     "name": "stdout",
     "output_type": "stream",
     "text": [
      "1.6532125137753437\n"
     ]
    }
   ],
   "source": [
    "print(np.log10(n)) "
   ]
  },
  {
   "cell_type": "code",
   "execution_count": 353,
   "id": "77e7d43a-6e36-4d02-8236-87d06946c928",
   "metadata": {},
   "outputs": [
    {
     "name": "stdout",
     "output_type": "stream",
     "text": [
      "5.491853096329675\n"
     ]
    }
   ],
   "source": [
    "print(np.log2(n)) "
   ]
  },
  {
   "cell_type": "markdown",
   "id": "871539a8-9736-458f-9bf7-a8af0b167b07",
   "metadata": {},
   "source": [
    "UFunc"
   ]
  },
  {
   "cell_type": "code",
   "execution_count": 233,
   "id": "8bda5922-ed6e-4001-b133-e71d191bcae9",
   "metadata": {},
   "outputs": [
    {
     "name": "stdout",
     "output_type": "stream",
     "text": [
      "111\n"
     ]
    }
   ],
   "source": [
    "A = np.array([56,78,12,32,111,109])\n",
    "print(max(A))"
   ]
  },
  {
   "cell_type": "code",
   "execution_count": 235,
   "id": "eac7f2ba-20c7-4ace-a85b-bb54cca2aec6",
   "metadata": {},
   "outputs": [
    {
     "name": "stdout",
     "output_type": "stream",
     "text": [
      "12\n"
     ]
    }
   ],
   "source": [
    "A = np.array([56,78,12,32,111,109])\n",
    "print(min(A))"
   ]
  },
  {
   "cell_type": "markdown",
   "id": "64a828c2-eb7e-415b-8dce-ae7df0a43e13",
   "metadata": {},
   "source": [
    "Sorting"
   ]
  },
  {
   "cell_type": "markdown",
   "id": "df9a71bb-69a3-41e7-8a41-ab465f77c4cd",
   "metadata": {},
   "source": [
    "B = np.array([90,12,45,1,89,98])\n",
    "B.sort()\n",
    "print(B)"
   ]
  },
  {
   "cell_type": "code",
   "execution_count": 246,
   "id": "d850c7f5-04e4-4c82-b3f4-9c27a8193cd2",
   "metadata": {},
   "outputs": [
    {
     "name": "stdout",
     "output_type": "stream",
     "text": [
      "[90 12 45  1 89 98]\n",
      "[1, 12, 45, 89, 90, 98]\n"
     ]
    }
   ],
   "source": [
    "C = np.array([90,12,45,1,89,98])\n",
    "D = sorted(C)\n",
    "print(C)\n",
    "print(D)"
   ]
  },
  {
   "cell_type": "markdown",
   "id": "09eb6f59-5023-4fec-8fc5-a081553c085d",
   "metadata": {},
   "source": [
    "Rounding"
   ]
  },
  {
   "cell_type": "code",
   "execution_count": 249,
   "id": "06dcb2f1-d34c-4d9f-aa2e-003752e4c52c",
   "metadata": {},
   "outputs": [
    {
     "name": "stdout",
     "output_type": "stream",
     "text": [
      "[10. -7.]\n"
     ]
    }
   ],
   "source": [
    "s2 = np.array([9.1 , -7.8])\n",
    "print(np.ceil(s2))"
   ]
  },
  {
   "cell_type": "code",
   "execution_count": 251,
   "id": "64060005-3f5d-4f37-8cdc-6c2b4400efdf",
   "metadata": {},
   "outputs": [
    {
     "name": "stdout",
     "output_type": "stream",
     "text": [
      "[ 9. -8.]\n"
     ]
    }
   ],
   "source": [
    "print(np.floor(s2))"
   ]
  },
  {
   "cell_type": "markdown",
   "id": "81862ac8-0bef-44ee-b82d-7a65d8271bd8",
   "metadata": {},
   "source": [
    "Random Module"
   ]
  },
  {
   "cell_type": "code",
   "execution_count": 254,
   "id": "7d9d2d09-d195-43c0-ac5f-a27ee836a340",
   "metadata": {},
   "outputs": [],
   "source": [
    "import numpy.random as rd"
   ]
  },
  {
   "cell_type": "code",
   "execution_count": 270,
   "id": "f6356d44-6b16-4b79-aef1-c662f48c2d86",
   "metadata": {},
   "outputs": [
    {
     "name": "stdout",
     "output_type": "stream",
     "text": [
      "[0.38182159 0.76627657]\n"
     ]
    }
   ],
   "source": [
    "ran1 = rd.rand(2)   # 0 to 1\n",
    "print(ran1)"
   ]
  },
  {
   "cell_type": "code",
   "execution_count": 286,
   "id": "9a38264c-630e-4452-8926-d2d292588b20",
   "metadata": {},
   "outputs": [
    {
     "name": "stdout",
     "output_type": "stream",
     "text": [
      "0\n"
     ]
    }
   ],
   "source": [
    "ran2 = rd.randint(5)  #0 to 5  #limit\n",
    "print(ran2)"
   ]
  },
  {
   "cell_type": "code",
   "execution_count": 288,
   "id": "4594eb69-d0bb-4aab-a1a4-12c4f3088d93",
   "metadata": {},
   "outputs": [
    {
     "name": "stdout",
     "output_type": "stream",
     "text": [
      "[3 1 2 2 3 1]\n"
     ]
    }
   ],
   "source": [
    "ran3 = rd.randint(5, size = (6))  #  #limit, size\n",
    "print(ran3)"
   ]
  },
  {
   "cell_type": "code",
   "execution_count": 294,
   "id": "7191f34b-9495-4185-9e05-ad4d5fb7c951",
   "metadata": {},
   "outputs": [
    {
     "name": "stdout",
     "output_type": "stream",
     "text": [
      "[[[4 4 1]\n",
      "  [0 0 1]]\n",
      "\n",
      " [[2 0 4]\n",
      "  [0 3 1]]\n",
      "\n",
      " [[4 1 3]\n",
      "  [3 3 0]]\n",
      "\n",
      " [[0 4 0]\n",
      "  [2 1 0]]\n",
      "\n",
      " [[1 3 0]\n",
      "  [3 3 4]]\n",
      "\n",
      " [[2 2 4]\n",
      "  [0 0 1]]]\n"
     ]
    }
   ],
   "source": [
    "ran4 = rd.randint(5, size = (6,2,3))  #  #limit, size = (g,r,c)\n",
    "print(ran4)"
   ]
  },
  {
   "cell_type": "markdown",
   "id": "d634dad7-6f22-4b49-9fe9-4ff295b13c96",
   "metadata": {},
   "source": [
    "Stack"
   ]
  },
  {
   "cell_type": "code",
   "execution_count": 303,
   "id": "4d1054a3-a796-40c9-9518-f7914bd20528",
   "metadata": {},
   "outputs": [
    {
     "name": "stdout",
     "output_type": "stream",
     "text": [
      "[[ 9  4 23]\n",
      " [ 3  4  5]]\n",
      "\n",
      "\n",
      "[[ 8  1  2]\n",
      " [33 42 51]]\n"
     ]
    }
   ],
   "source": [
    "Ar1 = np.array([[9,4,23],[3,4,5]])\n",
    "Ar2 = np.array([[8,1,2],[33,42,51]])\n",
    "print(Ar1)\n",
    "print(\"\\n\")\n",
    "print(Ar2)"
   ]
  },
  {
   "cell_type": "code",
   "execution_count": 301,
   "id": "b96ce95e-6d00-4115-b787-aedd8ea3efc8",
   "metadata": {},
   "outputs": [
    {
     "name": "stdout",
     "output_type": "stream",
     "text": [
      "[[ 9  4 23  8  1  2]\n",
      " [ 3  4  5 33 42 51]]\n"
     ]
    }
   ],
   "source": [
    "Ar3 = np.hstack((Ar1,Ar2))  #side by side\n",
    "print(Ar3)"
   ]
  },
  {
   "cell_type": "code",
   "execution_count": 305,
   "id": "a451623d-6e2b-4729-8f13-a47fcc4b8a32",
   "metadata": {},
   "outputs": [
    {
     "name": "stdout",
     "output_type": "stream",
     "text": [
      "[[ 9  4 23]\n",
      " [ 3  4  5]\n",
      " [ 8  1  2]\n",
      " [33 42 51]]\n"
     ]
    }
   ],
   "source": [
    "Ar4 = np.vstack((Ar1,Ar2)) #one top of another\n",
    "print(Ar4)"
   ]
  },
  {
   "cell_type": "code",
   "execution_count": 319,
   "id": "912c3af3-8d43-418a-a542-ed051da184b6",
   "metadata": {},
   "outputs": [
    {
     "name": "stdout",
     "output_type": "stream",
     "text": [
      "[[[ 1  2]\n",
      "  [ 3  4]\n",
      "  [ 5  6]]\n",
      "\n",
      " [[ 7  8]\n",
      "  [ 9 10]\n",
      "  [11 12]]\n",
      "\n",
      " [[13 14]\n",
      "  [15 16]\n",
      "  [17 18]]]\n"
     ]
    }
   ],
   "source": [
    "Ar5 = np.arange(1,19).reshape(3,3,2)\n",
    "print(Ar5)"
   ]
  },
  {
   "cell_type": "code",
   "execution_count": 321,
   "id": "2df0d6e8-4a05-4b15-864c-1c98dcee5319",
   "metadata": {},
   "outputs": [
    {
     "name": "stdout",
     "output_type": "stream",
     "text": [
      "[[[ 1  7 13]\n",
      "  [ 2  8 14]]\n",
      "\n",
      " [[ 3  9 15]\n",
      "  [ 4 10 16]]\n",
      "\n",
      " [[ 5 11 17]\n",
      "  [ 6 12 18]]]\n"
     ]
    }
   ],
   "source": [
    "Ar6 = np.dstack(Ar5)\n",
    "print(Ar6)"
   ]
  },
  {
   "cell_type": "markdown",
   "id": "1eb319ea-3566-4190-af6d-5a1f3f1ef98f",
   "metadata": {},
   "source": [
    "Set"
   ]
  },
  {
   "cell_type": "code",
   "execution_count": 356,
   "id": "9da4e375-6fd2-46eb-ae98-1fbf23f2fa6b",
   "metadata": {},
   "outputs": [
    {
     "name": "stdout",
     "output_type": "stream",
     "text": [
      "[9 3 5 2 1] \n",
      "\n",
      "[4 5 2 1 3]\n"
     ]
    }
   ],
   "source": [
    "S1 = np.array([9,3,5,2,1])\n",
    "S2 = np.array([4,5,2,1,3])\n",
    "print(S1, \"\\n\")\n",
    "print(S2)"
   ]
  },
  {
   "cell_type": "code",
   "execution_count": 360,
   "id": "12415743-f390-455e-9b4b-a582f590fc39",
   "metadata": {},
   "outputs": [
    {
     "name": "stdout",
     "output_type": "stream",
     "text": [
      "[1 2 3 4 5 9]\n"
     ]
    }
   ],
   "source": [
    "print(np.union1d(S1,S2))"
   ]
  },
  {
   "cell_type": "code",
   "execution_count": 364,
   "id": "65ff4592-0de4-42da-818c-6e2cab8fe3c6",
   "metadata": {},
   "outputs": [
    {
     "name": "stdout",
     "output_type": "stream",
     "text": [
      "[1 2 3 5]\n"
     ]
    }
   ],
   "source": [
    "print(np.intersect1d(S1,S2))"
   ]
  },
  {
   "cell_type": "code",
   "execution_count": 368,
   "id": "bd885f18-c4f8-4f9f-abce-20e0c479cb24",
   "metadata": {},
   "outputs": [
    {
     "name": "stdout",
     "output_type": "stream",
     "text": [
      "[9]\n"
     ]
    }
   ],
   "source": [
    "print(np.setdiff1d(S1,S2)) #S1 - S2"
   ]
  },
  {
   "cell_type": "markdown",
   "id": "d34636a1-f22b-485a-b41e-ec485c3fcf86",
   "metadata": {},
   "source": [
    "Search"
   ]
  },
  {
   "cell_type": "code",
   "execution_count": 371,
   "id": "353ebecb-0917-4559-86f3-66167d60ae7c",
   "metadata": {},
   "outputs": [
    {
     "name": "stdout",
     "output_type": "stream",
     "text": [
      "(array([0, 2], dtype=int64),)\n"
     ]
    }
   ],
   "source": [
    "col1 = np.array([44,33,12,67,19])\n",
    "index = np.where(col1%2 == 0)\n",
    "print(index)"
   ]
  },
  {
   "cell_type": "code",
   "execution_count": 373,
   "id": "3f07f429-1266-4256-9246-be3ff90fa7e7",
   "metadata": {},
   "outputs": [
    {
     "name": "stdout",
     "output_type": "stream",
     "text": [
      "(array([0, 4, 5], dtype=int64),)\n"
     ]
    }
   ],
   "source": [
    "col2 = np.array([45, 33, 21, 50, 60, 15]) \n",
    "index = np.where((col2%3==0) & (col2%5==0))\n",
    "print(index)#div by 5 and 3"
   ]
  },
  {
   "cell_type": "code",
   "execution_count": null,
   "id": "3addfa7a-e6d0-422e-9826-e3b0e3c71268",
   "metadata": {},
   "outputs": [],
   "source": []
  }
 ],
 "metadata": {
  "kernelspec": {
   "display_name": "Python [conda env:base] *",
   "language": "python",
   "name": "conda-base-py"
  },
  "language_info": {
   "codemirror_mode": {
    "name": "ipython",
    "version": 3
   },
   "file_extension": ".py",
   "mimetype": "text/x-python",
   "name": "python",
   "nbconvert_exporter": "python",
   "pygments_lexer": "ipython3",
   "version": "3.12.4"
  }
 },
 "nbformat": 4,
 "nbformat_minor": 5
}
