{
 "cells": [
  {
   "cell_type": "markdown",
   "id": "d26bd9bc-9529-45dd-bc21-38622838e0b3",
   "metadata": {},
   "source": [
    "# Pandas"
   ]
  },
  {
   "cell_type": "code",
   "execution_count": 2,
   "id": "1495fc0b-f19e-452b-8a67-5acc23dcacc1",
   "metadata": {},
   "outputs": [],
   "source": [
    "#importing\n",
    "import pandas as pd"
   ]
  },
  {
   "cell_type": "markdown",
   "id": "82a02953-a168-4122-a1a2-59ccccccb27c",
   "metadata": {},
   "source": [
    "Series"
   ]
  },
  {
   "cell_type": "code",
   "execution_count": 5,
   "id": "f3715a56-60f4-4fc4-90d0-0f8a68d080e7",
   "metadata": {},
   "outputs": [
    {
     "name": "stdout",
     "output_type": "stream",
     "text": [
      "0      Ananya\n",
      "1    Aishwika\n",
      "2      Nayana\n",
      "3       Navya\n",
      "4    Gowthami\n",
      "dtype: object\n"
     ]
    }
   ],
   "source": [
    "mydata1 = [\"Ananya\", \"Aishwika\", \"Nayana\" , \"Navya\" ,\"Gowthami\"]\n",
    "Ser1 = pd.Series(mydata1)\n",
    "print(Ser1)"
   ]
  },
  {
   "cell_type": "code",
   "execution_count": 7,
   "id": "324b7c76-5734-46fa-aba7-26d3ec222bf5",
   "metadata": {},
   "outputs": [
    {
     "data": {
      "text/plain": [
       "'Navya'"
      ]
     },
     "execution_count": 7,
     "metadata": {},
     "output_type": "execute_result"
    }
   ],
   "source": [
    "Ser1[3]"
   ]
  },
  {
   "cell_type": "code",
   "execution_count": 21,
   "id": "fb331c06-78e1-4a16-b928-f13dd09e8b54",
   "metadata": {},
   "outputs": [
    {
     "name": "stdout",
     "output_type": "stream",
     "text": [
      "A      Ananya\n",
      "B    Aishwika\n",
      "C      Nayana\n",
      "D       Navya\n",
      "E    Gowthami\n",
      "dtype: object\n"
     ]
    }
   ],
   "source": [
    "mydata1 = [\"Ananya\", \"Aishwika\", \"Nayana\" , \"Navya\" ,\"Gowthami\"]\n",
    "roll = ['A','B','C','D','E']\n",
    "Ser2 = pd.Series(mydata1, index = roll)\n",
    "print(Ser2)"
   ]
  },
  {
   "cell_type": "code",
   "execution_count": 17,
   "id": "7866bc87-44e1-44b2-8d3e-00469044e06a",
   "metadata": {},
   "outputs": [
    {
     "data": {
      "text/plain": [
       "'Navya'"
      ]
     },
     "execution_count": 17,
     "metadata": {},
     "output_type": "execute_result"
    }
   ],
   "source": [
    "Ser2['D']"
   ]
  },
  {
   "cell_type": "code",
   "execution_count": 29,
   "id": "50085f14-57c0-4088-9851-42ec24b84179",
   "metadata": {},
   "outputs": [],
   "source": [
    "Ser2.to_csv(r\"C:\\Mypythonfiles\\mydata1.csv\")"
   ]
  },
  {
   "cell_type": "markdown",
   "id": "e93533ef-3c83-4c8d-96c1-f0b7a527efbb",
   "metadata": {},
   "source": [
    "# DataFrames"
   ]
  },
  {
   "cell_type": "code",
   "execution_count": 32,
   "id": "992eba89-9cd4-4013-94ba-a734e16acd0d",
   "metadata": {},
   "outputs": [
    {
     "name": "stdout",
     "output_type": "stream",
     "text": [
      "{'Names': ['Raj', 'Rakesh', 'sumit'], 'Age': [19, 19, 20], 'City': ['Raichur', 'Shimoga', 'Bidar']}\n"
     ]
    }
   ],
   "source": [
    "mydict = { \"Names\" : [\"Raj\" , \"Rakesh\" , \"sumit\" ],\n",
    "           \"Age\" : [19 , 19, 20],\n",
    "          \"City\" : [\"Raichur\" , \"Shimoga\", \"Bidar\"]\n",
    "         }\n",
    "print(mydict)"
   ]
  },
  {
   "cell_type": "code",
   "execution_count": 36,
   "id": "8bf5cae3-970c-4ad4-b9a6-418eab42e7d8",
   "metadata": {},
   "outputs": [
    {
     "name": "stdout",
     "output_type": "stream",
     "text": [
      "    Names  Age     City\n",
      "0     Raj   19  Raichur\n",
      "1  Rakesh   19  Shimoga\n",
      "2   sumit   20    Bidar\n"
     ]
    }
   ],
   "source": [
    "dict_df = pd.DataFrame(mydict)\n",
    "print(dict_df)"
   ]
  },
  {
   "cell_type": "code",
   "execution_count": 38,
   "id": "3396c9d7-6729-478e-a7cc-387cc62700e3",
   "metadata": {},
   "outputs": [],
   "source": [
    "dict_df.to_csv(r\"C:\\Mypythonfiles\\dictdata.csv\")"
   ]
  },
  {
   "cell_type": "markdown",
   "id": "2c3d01f0-d495-4aaf-af93-16575cc6834e",
   "metadata": {},
   "source": [
    "Load data"
   ]
  },
  {
   "cell_type": "code",
   "execution_count": 43,
   "id": "3151eb0c-16d0-4187-b6ff-6b626b2b32f7",
   "metadata": {},
   "outputs": [],
   "source": [
    "df1 = pd.read_csv(r\"C:\\Mypythonfiles\\sampledata.csv\")"
   ]
  },
  {
   "cell_type": "code",
   "execution_count": 45,
   "id": "385c3040-b749-414c-a748-575febed2ab7",
   "metadata": {},
   "outputs": [
    {
     "data": {
      "text/html": [
       "<div>\n",
       "<style scoped>\n",
       "    .dataframe tbody tr th:only-of-type {\n",
       "        vertical-align: middle;\n",
       "    }\n",
       "\n",
       "    .dataframe tbody tr th {\n",
       "        vertical-align: top;\n",
       "    }\n",
       "\n",
       "    .dataframe thead th {\n",
       "        text-align: right;\n",
       "    }\n",
       "</style>\n",
       "<table border=\"1\" class=\"dataframe\">\n",
       "  <thead>\n",
       "    <tr style=\"text-align: right;\">\n",
       "      <th></th>\n",
       "      <th>Name</th>\n",
       "      <th>Dept</th>\n",
       "      <th>Sem1</th>\n",
       "      <th>Sem2</th>\n",
       "      <th>Sem3</th>\n",
       "    </tr>\n",
       "  </thead>\n",
       "  <tbody>\n",
       "    <tr>\n",
       "      <th>0</th>\n",
       "      <td>Sam</td>\n",
       "      <td>ECE</td>\n",
       "      <td>6.7</td>\n",
       "      <td>8.9</td>\n",
       "      <td>7.2</td>\n",
       "    </tr>\n",
       "    <tr>\n",
       "      <th>1</th>\n",
       "      <td>Ananya</td>\n",
       "      <td>ISE</td>\n",
       "      <td>7.9</td>\n",
       "      <td>8.9</td>\n",
       "      <td>9.1</td>\n",
       "    </tr>\n",
       "    <tr>\n",
       "      <th>2</th>\n",
       "      <td>Monisha</td>\n",
       "      <td>ISE</td>\n",
       "      <td>7.8</td>\n",
       "      <td>8.1</td>\n",
       "      <td>9.0</td>\n",
       "    </tr>\n",
       "    <tr>\n",
       "      <th>3</th>\n",
       "      <td>Navya</td>\n",
       "      <td>ISE</td>\n",
       "      <td>NaN</td>\n",
       "      <td>8.1</td>\n",
       "      <td>9.2</td>\n",
       "    </tr>\n",
       "    <tr>\n",
       "      <th>4</th>\n",
       "      <td>Prajwal</td>\n",
       "      <td>ISE</td>\n",
       "      <td>8.9</td>\n",
       "      <td>NaN</td>\n",
       "      <td>9.3</td>\n",
       "    </tr>\n",
       "  </tbody>\n",
       "</table>\n",
       "</div>"
      ],
      "text/plain": [
       "      Name Dept  Sem1  Sem2  Sem3\n",
       "0      Sam  ECE   6.7   8.9   7.2\n",
       "1   Ananya  ISE   7.9   8.9   9.1\n",
       "2  Monisha  ISE   7.8   8.1   9.0\n",
       "3    Navya  ISE   NaN   8.1   9.2\n",
       "4  Prajwal  ISE   8.9   NaN   9.3"
      ]
     },
     "execution_count": 45,
     "metadata": {},
     "output_type": "execute_result"
    }
   ],
   "source": [
    "df1.head()"
   ]
  },
  {
   "cell_type": "markdown",
   "id": "bc7c1d6f-0622-4554-bc9c-828554e203d9",
   "metadata": {},
   "source": [
    "Loading large file"
   ]
  },
  {
   "cell_type": "code",
   "execution_count": 48,
   "id": "b3dc8acb-f87a-4ea4-9e94-e64c0dafdec2",
   "metadata": {},
   "outputs": [
    {
     "data": {
      "text/html": [
       "<div>\n",
       "<style scoped>\n",
       "    .dataframe tbody tr th:only-of-type {\n",
       "        vertical-align: middle;\n",
       "    }\n",
       "\n",
       "    .dataframe tbody tr th {\n",
       "        vertical-align: top;\n",
       "    }\n",
       "\n",
       "    .dataframe thead th {\n",
       "        text-align: right;\n",
       "    }\n",
       "</style>\n",
       "<table border=\"1\" class=\"dataframe\">\n",
       "  <thead>\n",
       "    <tr style=\"text-align: right;\">\n",
       "      <th></th>\n",
       "      <th>preg</th>\n",
       "      <th>plas</th>\n",
       "      <th>pres</th>\n",
       "      <th>skin</th>\n",
       "      <th>insu</th>\n",
       "      <th>mass</th>\n",
       "      <th>pedi</th>\n",
       "      <th>age</th>\n",
       "      <th>class</th>\n",
       "    </tr>\n",
       "  </thead>\n",
       "  <tbody>\n",
       "    <tr>\n",
       "      <th>0</th>\n",
       "      <td>6.0</td>\n",
       "      <td>148</td>\n",
       "      <td>72.0</td>\n",
       "      <td>35.0</td>\n",
       "      <td>0</td>\n",
       "      <td>33.6</td>\n",
       "      <td>0.627</td>\n",
       "      <td>50</td>\n",
       "      <td>tested_positive</td>\n",
       "    </tr>\n",
       "    <tr>\n",
       "      <th>1</th>\n",
       "      <td>1.0</td>\n",
       "      <td>85</td>\n",
       "      <td>66.0</td>\n",
       "      <td>29.0</td>\n",
       "      <td>0</td>\n",
       "      <td>26.6</td>\n",
       "      <td>0.351</td>\n",
       "      <td>31</td>\n",
       "      <td>tested_negative</td>\n",
       "    </tr>\n",
       "    <tr>\n",
       "      <th>2</th>\n",
       "      <td>8.0</td>\n",
       "      <td>183</td>\n",
       "      <td>64.0</td>\n",
       "      <td>0.0</td>\n",
       "      <td>0</td>\n",
       "      <td>23.3</td>\n",
       "      <td>0.672</td>\n",
       "      <td>32</td>\n",
       "      <td>tested_positive</td>\n",
       "    </tr>\n",
       "    <tr>\n",
       "      <th>3</th>\n",
       "      <td>1.0</td>\n",
       "      <td>89</td>\n",
       "      <td>66.0</td>\n",
       "      <td>23.0</td>\n",
       "      <td>94</td>\n",
       "      <td>28.1</td>\n",
       "      <td>0.167</td>\n",
       "      <td>21</td>\n",
       "      <td>tested_negative</td>\n",
       "    </tr>\n",
       "    <tr>\n",
       "      <th>4</th>\n",
       "      <td>0.0</td>\n",
       "      <td>137</td>\n",
       "      <td>40.0</td>\n",
       "      <td>35.0</td>\n",
       "      <td>168</td>\n",
       "      <td>43.1</td>\n",
       "      <td>2.288</td>\n",
       "      <td>33</td>\n",
       "      <td>tested_positive</td>\n",
       "    </tr>\n",
       "  </tbody>\n",
       "</table>\n",
       "</div>"
      ],
      "text/plain": [
       "   preg  plas  pres  skin  insu  mass   pedi  age            class\n",
       "0   6.0   148  72.0  35.0     0  33.6  0.627   50  tested_positive\n",
       "1   1.0    85  66.0  29.0     0  26.6  0.351   31  tested_negative\n",
       "2   8.0   183  64.0   0.0     0  23.3  0.672   32  tested_positive\n",
       "3   1.0    89  66.0  23.0    94  28.1  0.167   21  tested_negative\n",
       "4   0.0   137  40.0  35.0   168  43.1  2.288   33  tested_positive"
      ]
     },
     "execution_count": 48,
     "metadata": {},
     "output_type": "execute_result"
    }
   ],
   "source": [
    "diab_df = pd.read_csv(r\"C:\\Mypythonfiles\\diabetcsvsmall.csv\")\n",
    "diab_df.head()"
   ]
  },
  {
   "cell_type": "code",
   "execution_count": 50,
   "id": "cb5662d9-0489-4ae7-89b5-64502fe37b6f",
   "metadata": {},
   "outputs": [
    {
     "data": {
      "text/html": [
       "<div>\n",
       "<style scoped>\n",
       "    .dataframe tbody tr th:only-of-type {\n",
       "        vertical-align: middle;\n",
       "    }\n",
       "\n",
       "    .dataframe tbody tr th {\n",
       "        vertical-align: top;\n",
       "    }\n",
       "\n",
       "    .dataframe thead th {\n",
       "        text-align: right;\n",
       "    }\n",
       "</style>\n",
       "<table border=\"1\" class=\"dataframe\">\n",
       "  <thead>\n",
       "    <tr style=\"text-align: right;\">\n",
       "      <th></th>\n",
       "      <th>preg</th>\n",
       "      <th>plas</th>\n",
       "      <th>pres</th>\n",
       "      <th>skin</th>\n",
       "      <th>insu</th>\n",
       "      <th>mass</th>\n",
       "      <th>pedi</th>\n",
       "      <th>age</th>\n",
       "      <th>class</th>\n",
       "    </tr>\n",
       "  </thead>\n",
       "  <tbody>\n",
       "    <tr>\n",
       "      <th>97</th>\n",
       "      <td>1.0</td>\n",
       "      <td>71</td>\n",
       "      <td>48.0</td>\n",
       "      <td>NaN</td>\n",
       "      <td>76</td>\n",
       "      <td>20.4</td>\n",
       "      <td>0.323</td>\n",
       "      <td>22</td>\n",
       "      <td>tested_negative</td>\n",
       "    </tr>\n",
       "    <tr>\n",
       "      <th>98</th>\n",
       "      <td>6.0</td>\n",
       "      <td>93</td>\n",
       "      <td>50.0</td>\n",
       "      <td>30.0</td>\n",
       "      <td>64</td>\n",
       "      <td>28.7</td>\n",
       "      <td>0.356</td>\n",
       "      <td>23</td>\n",
       "      <td>tested_negative</td>\n",
       "    </tr>\n",
       "    <tr>\n",
       "      <th>99</th>\n",
       "      <td>NaN</td>\n",
       "      <td>122</td>\n",
       "      <td>90.0</td>\n",
       "      <td>51.0</td>\n",
       "      <td>220</td>\n",
       "      <td>49.7</td>\n",
       "      <td>0.325</td>\n",
       "      <td>31</td>\n",
       "      <td>tested_positive</td>\n",
       "    </tr>\n",
       "    <tr>\n",
       "      <th>100</th>\n",
       "      <td>1.0</td>\n",
       "      <td>163</td>\n",
       "      <td>72.0</td>\n",
       "      <td>0.0</td>\n",
       "      <td>0</td>\n",
       "      <td>39.0</td>\n",
       "      <td>1.222</td>\n",
       "      <td>33</td>\n",
       "      <td>tested_positive</td>\n",
       "    </tr>\n",
       "    <tr>\n",
       "      <th>101</th>\n",
       "      <td>1.0</td>\n",
       "      <td>151</td>\n",
       "      <td>60.0</td>\n",
       "      <td>0.0</td>\n",
       "      <td>0</td>\n",
       "      <td>26.1</td>\n",
       "      <td>0.179</td>\n",
       "      <td>22</td>\n",
       "      <td>tested_negative</td>\n",
       "    </tr>\n",
       "  </tbody>\n",
       "</table>\n",
       "</div>"
      ],
      "text/plain": [
       "     preg  plas  pres  skin  insu  mass   pedi  age            class\n",
       "97    1.0    71  48.0   NaN    76  20.4  0.323   22  tested_negative\n",
       "98    6.0    93  50.0  30.0    64  28.7  0.356   23  tested_negative\n",
       "99    NaN   122  90.0  51.0   220  49.7  0.325   31  tested_positive\n",
       "100   1.0   163  72.0   0.0     0  39.0  1.222   33  tested_positive\n",
       "101   1.0   151  60.0   0.0     0  26.1  0.179   22  tested_negative"
      ]
     },
     "execution_count": 50,
     "metadata": {},
     "output_type": "execute_result"
    }
   ],
   "source": [
    "diab_df.tail()"
   ]
  },
  {
   "cell_type": "markdown",
   "id": "d3b3ba04-4695-4bc2-8343-521586b1d5bd",
   "metadata": {},
   "source": [
    "Access"
   ]
  },
  {
   "cell_type": "code",
   "execution_count": 61,
   "id": "3a70ed35-f464-4124-bd95-869ccfbf4e28",
   "metadata": {},
   "outputs": [
    {
     "data": {
      "text/plain": [
       "12    57\n",
       "13    59\n",
       "14    51\n",
       "15    32\n",
       "16    31\n",
       "17    31\n",
       "18    33\n",
       "19    32\n",
       "Name: age, dtype: int64"
      ]
     },
     "execution_count": 61,
     "metadata": {},
     "output_type": "execute_result"
    }
   ],
   "source": [
    "diab_df.loc[12:19, \"age\" ]"
   ]
  },
  {
   "cell_type": "code",
   "execution_count": 63,
   "id": "fd99fc70-ff10-4a4d-8a5e-b69014c6e63d",
   "metadata": {},
   "outputs": [
    {
     "data": {
      "text/html": [
       "<div>\n",
       "<style scoped>\n",
       "    .dataframe tbody tr th:only-of-type {\n",
       "        vertical-align: middle;\n",
       "    }\n",
       "\n",
       "    .dataframe tbody tr th {\n",
       "        vertical-align: top;\n",
       "    }\n",
       "\n",
       "    .dataframe thead th {\n",
       "        text-align: right;\n",
       "    }\n",
       "</style>\n",
       "<table border=\"1\" class=\"dataframe\">\n",
       "  <thead>\n",
       "    <tr style=\"text-align: right;\">\n",
       "      <th></th>\n",
       "      <th>preg</th>\n",
       "      <th>plas</th>\n",
       "      <th>pres</th>\n",
       "      <th>skin</th>\n",
       "      <th>insu</th>\n",
       "      <th>mass</th>\n",
       "      <th>pedi</th>\n",
       "      <th>age</th>\n",
       "      <th>class</th>\n",
       "    </tr>\n",
       "  </thead>\n",
       "  <tbody>\n",
       "    <tr>\n",
       "      <th>12</th>\n",
       "      <td>10.0</td>\n",
       "      <td>139</td>\n",
       "      <td>80.0</td>\n",
       "      <td>0.0</td>\n",
       "      <td>0</td>\n",
       "      <td>27.1</td>\n",
       "      <td>1.441</td>\n",
       "      <td>57</td>\n",
       "      <td>tested_negative</td>\n",
       "    </tr>\n",
       "    <tr>\n",
       "      <th>13</th>\n",
       "      <td>1.0</td>\n",
       "      <td>189</td>\n",
       "      <td>60.0</td>\n",
       "      <td>23.0</td>\n",
       "      <td>846</td>\n",
       "      <td>30.1</td>\n",
       "      <td>0.398</td>\n",
       "      <td>59</td>\n",
       "      <td>tested_positive</td>\n",
       "    </tr>\n",
       "    <tr>\n",
       "      <th>14</th>\n",
       "      <td>5.0</td>\n",
       "      <td>166</td>\n",
       "      <td>72.0</td>\n",
       "      <td>19.0</td>\n",
       "      <td>175</td>\n",
       "      <td>25.8</td>\n",
       "      <td>0.587</td>\n",
       "      <td>51</td>\n",
       "      <td>tested_positive</td>\n",
       "    </tr>\n",
       "    <tr>\n",
       "      <th>15</th>\n",
       "      <td>7.0</td>\n",
       "      <td>100</td>\n",
       "      <td>0.0</td>\n",
       "      <td>0.0</td>\n",
       "      <td>0</td>\n",
       "      <td>30.0</td>\n",
       "      <td>0.484</td>\n",
       "      <td>32</td>\n",
       "      <td>tested_positive</td>\n",
       "    </tr>\n",
       "    <tr>\n",
       "      <th>16</th>\n",
       "      <td>0.0</td>\n",
       "      <td>118</td>\n",
       "      <td>84.0</td>\n",
       "      <td>47.0</td>\n",
       "      <td>230</td>\n",
       "      <td>45.8</td>\n",
       "      <td>0.551</td>\n",
       "      <td>31</td>\n",
       "      <td>tested_positive</td>\n",
       "    </tr>\n",
       "    <tr>\n",
       "      <th>17</th>\n",
       "      <td>7.0</td>\n",
       "      <td>107</td>\n",
       "      <td>74.0</td>\n",
       "      <td>0.0</td>\n",
       "      <td>0</td>\n",
       "      <td>29.6</td>\n",
       "      <td>0.254</td>\n",
       "      <td>31</td>\n",
       "      <td>tested_positive</td>\n",
       "    </tr>\n",
       "    <tr>\n",
       "      <th>18</th>\n",
       "      <td>1.0</td>\n",
       "      <td>103</td>\n",
       "      <td>30.0</td>\n",
       "      <td>38.0</td>\n",
       "      <td>83</td>\n",
       "      <td>43.3</td>\n",
       "      <td>0.183</td>\n",
       "      <td>33</td>\n",
       "      <td>tested_negative</td>\n",
       "    </tr>\n",
       "    <tr>\n",
       "      <th>19</th>\n",
       "      <td>1.0</td>\n",
       "      <td>115</td>\n",
       "      <td>70.0</td>\n",
       "      <td>30.0</td>\n",
       "      <td>96</td>\n",
       "      <td>34.6</td>\n",
       "      <td>0.529</td>\n",
       "      <td>32</td>\n",
       "      <td>tested_positive</td>\n",
       "    </tr>\n",
       "  </tbody>\n",
       "</table>\n",
       "</div>"
      ],
      "text/plain": [
       "    preg  plas  pres  skin  insu  mass   pedi  age            class\n",
       "12  10.0   139  80.0   0.0     0  27.1  1.441   57  tested_negative\n",
       "13   1.0   189  60.0  23.0   846  30.1  0.398   59  tested_positive\n",
       "14   5.0   166  72.0  19.0   175  25.8  0.587   51  tested_positive\n",
       "15   7.0   100   0.0   0.0     0  30.0  0.484   32  tested_positive\n",
       "16   0.0   118  84.0  47.0   230  45.8  0.551   31  tested_positive\n",
       "17   7.0   107  74.0   0.0     0  29.6  0.254   31  tested_positive\n",
       "18   1.0   103  30.0  38.0    83  43.3  0.183   33  tested_negative\n",
       "19   1.0   115  70.0  30.0    96  34.6  0.529   32  tested_positive"
      ]
     },
     "execution_count": 63,
     "metadata": {},
     "output_type": "execute_result"
    }
   ],
   "source": [
    "diab_df.loc[12:19]"
   ]
  },
  {
   "cell_type": "code",
   "execution_count": 65,
   "id": "214923af-36f1-43c4-a924-2bb5937c0678",
   "metadata": {},
   "outputs": [
    {
     "data": {
      "text/html": [
       "<div>\n",
       "<style scoped>\n",
       "    .dataframe tbody tr th:only-of-type {\n",
       "        vertical-align: middle;\n",
       "    }\n",
       "\n",
       "    .dataframe tbody tr th {\n",
       "        vertical-align: top;\n",
       "    }\n",
       "\n",
       "    .dataframe thead th {\n",
       "        text-align: right;\n",
       "    }\n",
       "</style>\n",
       "<table border=\"1\" class=\"dataframe\">\n",
       "  <thead>\n",
       "    <tr style=\"text-align: right;\">\n",
       "      <th></th>\n",
       "      <th>skin</th>\n",
       "      <th>insu</th>\n",
       "      <th>mass</th>\n",
       "      <th>pedi</th>\n",
       "      <th>age</th>\n",
       "    </tr>\n",
       "  </thead>\n",
       "  <tbody>\n",
       "    <tr>\n",
       "      <th>12</th>\n",
       "      <td>0.0</td>\n",
       "      <td>0</td>\n",
       "      <td>27.1</td>\n",
       "      <td>1.441</td>\n",
       "      <td>57</td>\n",
       "    </tr>\n",
       "    <tr>\n",
       "      <th>13</th>\n",
       "      <td>23.0</td>\n",
       "      <td>846</td>\n",
       "      <td>30.1</td>\n",
       "      <td>0.398</td>\n",
       "      <td>59</td>\n",
       "    </tr>\n",
       "    <tr>\n",
       "      <th>14</th>\n",
       "      <td>19.0</td>\n",
       "      <td>175</td>\n",
       "      <td>25.8</td>\n",
       "      <td>0.587</td>\n",
       "      <td>51</td>\n",
       "    </tr>\n",
       "    <tr>\n",
       "      <th>15</th>\n",
       "      <td>0.0</td>\n",
       "      <td>0</td>\n",
       "      <td>30.0</td>\n",
       "      <td>0.484</td>\n",
       "      <td>32</td>\n",
       "    </tr>\n",
       "    <tr>\n",
       "      <th>16</th>\n",
       "      <td>47.0</td>\n",
       "      <td>230</td>\n",
       "      <td>45.8</td>\n",
       "      <td>0.551</td>\n",
       "      <td>31</td>\n",
       "    </tr>\n",
       "    <tr>\n",
       "      <th>17</th>\n",
       "      <td>0.0</td>\n",
       "      <td>0</td>\n",
       "      <td>29.6</td>\n",
       "      <td>0.254</td>\n",
       "      <td>31</td>\n",
       "    </tr>\n",
       "    <tr>\n",
       "      <th>18</th>\n",
       "      <td>38.0</td>\n",
       "      <td>83</td>\n",
       "      <td>43.3</td>\n",
       "      <td>0.183</td>\n",
       "      <td>33</td>\n",
       "    </tr>\n",
       "  </tbody>\n",
       "</table>\n",
       "</div>"
      ],
      "text/plain": [
       "    skin  insu  mass   pedi  age\n",
       "12   0.0     0  27.1  1.441   57\n",
       "13  23.0   846  30.1  0.398   59\n",
       "14  19.0   175  25.8  0.587   51\n",
       "15   0.0     0  30.0  0.484   32\n",
       "16  47.0   230  45.8  0.551   31\n",
       "17   0.0     0  29.6  0.254   31\n",
       "18  38.0    83  43.3  0.183   33"
      ]
     },
     "execution_count": 65,
     "metadata": {},
     "output_type": "execute_result"
    }
   ],
   "source": [
    "diab_df.iloc[12:19, 3:8] #dataframe.iloc[row_range, column_range]"
   ]
  },
  {
   "cell_type": "markdown",
   "id": "3e9da1d2-a569-4481-bf81-9a1260f1ef4f",
   "metadata": {},
   "source": [
    "Feature Engineering"
   ]
  },
  {
   "cell_type": "markdown",
   "id": "17040808-8523-4f76-aab9-6c1aaacf0dc9",
   "metadata": {},
   "source": [
    "insu, mass, preg, plas, age, pres, skin ==> Independent (Feature)\n",
    "class ==> dependent ==> Target  (depends on features)"
   ]
  },
  {
   "cell_type": "code",
   "execution_count": 72,
   "id": "c5ae0535-52ef-4fdd-bb04-e44a8c707e9c",
   "metadata": {},
   "outputs": [],
   "source": [
    "diab_df.rename(columns = {\"plas\" : \"Glucose\"}, inplace = True)\n",
    "#dataframe.rename(columns = {\"old\" : \"new\" }, inplace = True}"
   ]
  },
  {
   "cell_type": "code",
   "execution_count": 74,
   "id": "8bdc212b-9ac3-4776-9e57-561a6f0c085c",
   "metadata": {},
   "outputs": [
    {
     "data": {
      "text/html": [
       "<div>\n",
       "<style scoped>\n",
       "    .dataframe tbody tr th:only-of-type {\n",
       "        vertical-align: middle;\n",
       "    }\n",
       "\n",
       "    .dataframe tbody tr th {\n",
       "        vertical-align: top;\n",
       "    }\n",
       "\n",
       "    .dataframe thead th {\n",
       "        text-align: right;\n",
       "    }\n",
       "</style>\n",
       "<table border=\"1\" class=\"dataframe\">\n",
       "  <thead>\n",
       "    <tr style=\"text-align: right;\">\n",
       "      <th></th>\n",
       "      <th>preg</th>\n",
       "      <th>Glucose</th>\n",
       "      <th>pres</th>\n",
       "      <th>skin</th>\n",
       "      <th>insu</th>\n",
       "      <th>mass</th>\n",
       "      <th>pedi</th>\n",
       "      <th>age</th>\n",
       "      <th>class</th>\n",
       "    </tr>\n",
       "  </thead>\n",
       "  <tbody>\n",
       "    <tr>\n",
       "      <th>0</th>\n",
       "      <td>6.0</td>\n",
       "      <td>148</td>\n",
       "      <td>72.0</td>\n",
       "      <td>35.0</td>\n",
       "      <td>0</td>\n",
       "      <td>33.6</td>\n",
       "      <td>0.627</td>\n",
       "      <td>50</td>\n",
       "      <td>tested_positive</td>\n",
       "    </tr>\n",
       "    <tr>\n",
       "      <th>1</th>\n",
       "      <td>1.0</td>\n",
       "      <td>85</td>\n",
       "      <td>66.0</td>\n",
       "      <td>29.0</td>\n",
       "      <td>0</td>\n",
       "      <td>26.6</td>\n",
       "      <td>0.351</td>\n",
       "      <td>31</td>\n",
       "      <td>tested_negative</td>\n",
       "    </tr>\n",
       "    <tr>\n",
       "      <th>2</th>\n",
       "      <td>8.0</td>\n",
       "      <td>183</td>\n",
       "      <td>64.0</td>\n",
       "      <td>0.0</td>\n",
       "      <td>0</td>\n",
       "      <td>23.3</td>\n",
       "      <td>0.672</td>\n",
       "      <td>32</td>\n",
       "      <td>tested_positive</td>\n",
       "    </tr>\n",
       "    <tr>\n",
       "      <th>3</th>\n",
       "      <td>1.0</td>\n",
       "      <td>89</td>\n",
       "      <td>66.0</td>\n",
       "      <td>23.0</td>\n",
       "      <td>94</td>\n",
       "      <td>28.1</td>\n",
       "      <td>0.167</td>\n",
       "      <td>21</td>\n",
       "      <td>tested_negative</td>\n",
       "    </tr>\n",
       "    <tr>\n",
       "      <th>4</th>\n",
       "      <td>0.0</td>\n",
       "      <td>137</td>\n",
       "      <td>40.0</td>\n",
       "      <td>35.0</td>\n",
       "      <td>168</td>\n",
       "      <td>43.1</td>\n",
       "      <td>2.288</td>\n",
       "      <td>33</td>\n",
       "      <td>tested_positive</td>\n",
       "    </tr>\n",
       "  </tbody>\n",
       "</table>\n",
       "</div>"
      ],
      "text/plain": [
       "   preg  Glucose  pres  skin  insu  mass   pedi  age            class\n",
       "0   6.0      148  72.0  35.0     0  33.6  0.627   50  tested_positive\n",
       "1   1.0       85  66.0  29.0     0  26.6  0.351   31  tested_negative\n",
       "2   8.0      183  64.0   0.0     0  23.3  0.672   32  tested_positive\n",
       "3   1.0       89  66.0  23.0    94  28.1  0.167   21  tested_negative\n",
       "4   0.0      137  40.0  35.0   168  43.1  2.288   33  tested_positive"
      ]
     },
     "execution_count": 74,
     "metadata": {},
     "output_type": "execute_result"
    }
   ],
   "source": [
    "diab_df.head()"
   ]
  },
  {
   "cell_type": "code",
   "execution_count": 76,
   "id": "63116567-3dc2-4b63-b648-50e0b28859c9",
   "metadata": {},
   "outputs": [],
   "source": [
    "diab_df['Glucose_in_mmol'] = diab_df['Glucose']/18.018\n",
    "#dataframe['new col name'] = Content\n",
    "#converting glucose from mg to mmol and creating new col"
   ]
  },
  {
   "cell_type": "code",
   "execution_count": 78,
   "id": "a383bdfd-8b05-4716-bb9b-16e9c56dfd5a",
   "metadata": {},
   "outputs": [
    {
     "data": {
      "text/html": [
       "<div>\n",
       "<style scoped>\n",
       "    .dataframe tbody tr th:only-of-type {\n",
       "        vertical-align: middle;\n",
       "    }\n",
       "\n",
       "    .dataframe tbody tr th {\n",
       "        vertical-align: top;\n",
       "    }\n",
       "\n",
       "    .dataframe thead th {\n",
       "        text-align: right;\n",
       "    }\n",
       "</style>\n",
       "<table border=\"1\" class=\"dataframe\">\n",
       "  <thead>\n",
       "    <tr style=\"text-align: right;\">\n",
       "      <th></th>\n",
       "      <th>preg</th>\n",
       "      <th>Glucose</th>\n",
       "      <th>pres</th>\n",
       "      <th>skin</th>\n",
       "      <th>insu</th>\n",
       "      <th>mass</th>\n",
       "      <th>pedi</th>\n",
       "      <th>age</th>\n",
       "      <th>class</th>\n",
       "      <th>Glucose_in_mmol</th>\n",
       "    </tr>\n",
       "  </thead>\n",
       "  <tbody>\n",
       "    <tr>\n",
       "      <th>0</th>\n",
       "      <td>6.0</td>\n",
       "      <td>148</td>\n",
       "      <td>72.0</td>\n",
       "      <td>35.0</td>\n",
       "      <td>0</td>\n",
       "      <td>33.6</td>\n",
       "      <td>0.627</td>\n",
       "      <td>50</td>\n",
       "      <td>tested_positive</td>\n",
       "      <td>8.214008</td>\n",
       "    </tr>\n",
       "    <tr>\n",
       "      <th>1</th>\n",
       "      <td>1.0</td>\n",
       "      <td>85</td>\n",
       "      <td>66.0</td>\n",
       "      <td>29.0</td>\n",
       "      <td>0</td>\n",
       "      <td>26.6</td>\n",
       "      <td>0.351</td>\n",
       "      <td>31</td>\n",
       "      <td>tested_negative</td>\n",
       "      <td>4.717505</td>\n",
       "    </tr>\n",
       "    <tr>\n",
       "      <th>2</th>\n",
       "      <td>8.0</td>\n",
       "      <td>183</td>\n",
       "      <td>64.0</td>\n",
       "      <td>0.0</td>\n",
       "      <td>0</td>\n",
       "      <td>23.3</td>\n",
       "      <td>0.672</td>\n",
       "      <td>32</td>\n",
       "      <td>tested_positive</td>\n",
       "      <td>10.156510</td>\n",
       "    </tr>\n",
       "    <tr>\n",
       "      <th>3</th>\n",
       "      <td>1.0</td>\n",
       "      <td>89</td>\n",
       "      <td>66.0</td>\n",
       "      <td>23.0</td>\n",
       "      <td>94</td>\n",
       "      <td>28.1</td>\n",
       "      <td>0.167</td>\n",
       "      <td>21</td>\n",
       "      <td>tested_negative</td>\n",
       "      <td>4.939505</td>\n",
       "    </tr>\n",
       "    <tr>\n",
       "      <th>4</th>\n",
       "      <td>0.0</td>\n",
       "      <td>137</td>\n",
       "      <td>40.0</td>\n",
       "      <td>35.0</td>\n",
       "      <td>168</td>\n",
       "      <td>43.1</td>\n",
       "      <td>2.288</td>\n",
       "      <td>33</td>\n",
       "      <td>tested_positive</td>\n",
       "      <td>7.603508</td>\n",
       "    </tr>\n",
       "    <tr>\n",
       "      <th>5</th>\n",
       "      <td>5.0</td>\n",
       "      <td>116</td>\n",
       "      <td>74.0</td>\n",
       "      <td>0.0</td>\n",
       "      <td>0</td>\n",
       "      <td>25.6</td>\n",
       "      <td>0.201</td>\n",
       "      <td>30</td>\n",
       "      <td>tested_negative</td>\n",
       "      <td>6.438006</td>\n",
       "    </tr>\n",
       "    <tr>\n",
       "      <th>6</th>\n",
       "      <td>3.0</td>\n",
       "      <td>78</td>\n",
       "      <td>50.0</td>\n",
       "      <td>32.0</td>\n",
       "      <td>88</td>\n",
       "      <td>31.0</td>\n",
       "      <td>0.248</td>\n",
       "      <td>26</td>\n",
       "      <td>tested_positive</td>\n",
       "      <td>4.329004</td>\n",
       "    </tr>\n",
       "    <tr>\n",
       "      <th>7</th>\n",
       "      <td>10.0</td>\n",
       "      <td>115</td>\n",
       "      <td>0.0</td>\n",
       "      <td>0.0</td>\n",
       "      <td>0</td>\n",
       "      <td>35.3</td>\n",
       "      <td>0.134</td>\n",
       "      <td>29</td>\n",
       "      <td>tested_negative</td>\n",
       "      <td>6.382506</td>\n",
       "    </tr>\n",
       "    <tr>\n",
       "      <th>8</th>\n",
       "      <td>2.0</td>\n",
       "      <td>197</td>\n",
       "      <td>70.0</td>\n",
       "      <td>45.0</td>\n",
       "      <td>543</td>\n",
       "      <td>30.5</td>\n",
       "      <td>0.158</td>\n",
       "      <td>53</td>\n",
       "      <td>tested_positive</td>\n",
       "      <td>10.933511</td>\n",
       "    </tr>\n",
       "    <tr>\n",
       "      <th>9</th>\n",
       "      <td>8.0</td>\n",
       "      <td>125</td>\n",
       "      <td>96.0</td>\n",
       "      <td>0.0</td>\n",
       "      <td>0</td>\n",
       "      <td>0.0</td>\n",
       "      <td>0.232</td>\n",
       "      <td>54</td>\n",
       "      <td>tested_positive</td>\n",
       "      <td>6.937507</td>\n",
       "    </tr>\n",
       "    <tr>\n",
       "      <th>10</th>\n",
       "      <td>4.0</td>\n",
       "      <td>110</td>\n",
       "      <td>92.0</td>\n",
       "      <td>0.0</td>\n",
       "      <td>0</td>\n",
       "      <td>37.6</td>\n",
       "      <td>0.191</td>\n",
       "      <td>30</td>\n",
       "      <td>tested_negative</td>\n",
       "      <td>6.105006</td>\n",
       "    </tr>\n",
       "    <tr>\n",
       "      <th>11</th>\n",
       "      <td>10.0</td>\n",
       "      <td>168</td>\n",
       "      <td>74.0</td>\n",
       "      <td>0.0</td>\n",
       "      <td>0</td>\n",
       "      <td>38.0</td>\n",
       "      <td>0.537</td>\n",
       "      <td>34</td>\n",
       "      <td>tested_positive</td>\n",
       "      <td>9.324009</td>\n",
       "    </tr>\n",
       "  </tbody>\n",
       "</table>\n",
       "</div>"
      ],
      "text/plain": [
       "    preg  Glucose  pres  skin  insu  mass   pedi  age            class  \\\n",
       "0    6.0      148  72.0  35.0     0  33.6  0.627   50  tested_positive   \n",
       "1    1.0       85  66.0  29.0     0  26.6  0.351   31  tested_negative   \n",
       "2    8.0      183  64.0   0.0     0  23.3  0.672   32  tested_positive   \n",
       "3    1.0       89  66.0  23.0    94  28.1  0.167   21  tested_negative   \n",
       "4    0.0      137  40.0  35.0   168  43.1  2.288   33  tested_positive   \n",
       "5    5.0      116  74.0   0.0     0  25.6  0.201   30  tested_negative   \n",
       "6    3.0       78  50.0  32.0    88  31.0  0.248   26  tested_positive   \n",
       "7   10.0      115   0.0   0.0     0  35.3  0.134   29  tested_negative   \n",
       "8    2.0      197  70.0  45.0   543  30.5  0.158   53  tested_positive   \n",
       "9    8.0      125  96.0   0.0     0   0.0  0.232   54  tested_positive   \n",
       "10   4.0      110  92.0   0.0     0  37.6  0.191   30  tested_negative   \n",
       "11  10.0      168  74.0   0.0     0  38.0  0.537   34  tested_positive   \n",
       "\n",
       "    Glucose_in_mmol  \n",
       "0          8.214008  \n",
       "1          4.717505  \n",
       "2         10.156510  \n",
       "3          4.939505  \n",
       "4          7.603508  \n",
       "5          6.438006  \n",
       "6          4.329004  \n",
       "7          6.382506  \n",
       "8         10.933511  \n",
       "9          6.937507  \n",
       "10         6.105006  \n",
       "11         9.324009  "
      ]
     },
     "execution_count": 78,
     "metadata": {},
     "output_type": "execute_result"
    }
   ],
   "source": [
    "diab_df.head(12)"
   ]
  },
  {
   "cell_type": "markdown",
   "id": "e6510ca6-9d67-416a-b148-92747d0b7090",
   "metadata": {},
   "source": [
    "Filter and Groups"
   ]
  },
  {
   "cell_type": "code",
   "execution_count": 81,
   "id": "d7e78388-6569-43fb-80c4-86c9fd8690f3",
   "metadata": {},
   "outputs": [
    {
     "data": {
      "text/html": [
       "<div>\n",
       "<style scoped>\n",
       "    .dataframe tbody tr th:only-of-type {\n",
       "        vertical-align: middle;\n",
       "    }\n",
       "\n",
       "    .dataframe tbody tr th {\n",
       "        vertical-align: top;\n",
       "    }\n",
       "\n",
       "    .dataframe thead th {\n",
       "        text-align: right;\n",
       "    }\n",
       "</style>\n",
       "<table border=\"1\" class=\"dataframe\">\n",
       "  <thead>\n",
       "    <tr style=\"text-align: right;\">\n",
       "      <th></th>\n",
       "      <th>preg</th>\n",
       "      <th>Glucose</th>\n",
       "      <th>pres</th>\n",
       "      <th>skin</th>\n",
       "      <th>insu</th>\n",
       "      <th>mass</th>\n",
       "      <th>pedi</th>\n",
       "      <th>age</th>\n",
       "      <th>class</th>\n",
       "      <th>Glucose_in_mmol</th>\n",
       "    </tr>\n",
       "  </thead>\n",
       "  <tbody>\n",
       "    <tr>\n",
       "      <th>3</th>\n",
       "      <td>1.0</td>\n",
       "      <td>89</td>\n",
       "      <td>66.0</td>\n",
       "      <td>23.0</td>\n",
       "      <td>94</td>\n",
       "      <td>28.1</td>\n",
       "      <td>0.167</td>\n",
       "      <td>21</td>\n",
       "      <td>tested_negative</td>\n",
       "      <td>4.939505</td>\n",
       "    </tr>\n",
       "    <tr>\n",
       "      <th>6</th>\n",
       "      <td>3.0</td>\n",
       "      <td>78</td>\n",
       "      <td>50.0</td>\n",
       "      <td>32.0</td>\n",
       "      <td>88</td>\n",
       "      <td>31.0</td>\n",
       "      <td>0.248</td>\n",
       "      <td>26</td>\n",
       "      <td>tested_positive</td>\n",
       "      <td>4.329004</td>\n",
       "    </tr>\n",
       "    <tr>\n",
       "      <th>7</th>\n",
       "      <td>10.0</td>\n",
       "      <td>115</td>\n",
       "      <td>0.0</td>\n",
       "      <td>0.0</td>\n",
       "      <td>0</td>\n",
       "      <td>35.3</td>\n",
       "      <td>0.134</td>\n",
       "      <td>29</td>\n",
       "      <td>tested_negative</td>\n",
       "      <td>6.382506</td>\n",
       "    </tr>\n",
       "    <tr>\n",
       "      <th>20</th>\n",
       "      <td>3.0</td>\n",
       "      <td>126</td>\n",
       "      <td>88.0</td>\n",
       "      <td>41.0</td>\n",
       "      <td>235</td>\n",
       "      <td>39.3</td>\n",
       "      <td>0.704</td>\n",
       "      <td>27</td>\n",
       "      <td>tested_negative</td>\n",
       "      <td>6.993007</td>\n",
       "    </tr>\n",
       "    <tr>\n",
       "      <th>23</th>\n",
       "      <td>9.0</td>\n",
       "      <td>119</td>\n",
       "      <td>80.0</td>\n",
       "      <td>35.0</td>\n",
       "      <td>0</td>\n",
       "      <td>29.0</td>\n",
       "      <td>0.263</td>\n",
       "      <td>29</td>\n",
       "      <td>tested_positive</td>\n",
       "      <td>6.604507</td>\n",
       "    </tr>\n",
       "  </tbody>\n",
       "</table>\n",
       "</div>"
      ],
      "text/plain": [
       "    preg  Glucose  pres  skin  insu  mass   pedi  age            class  \\\n",
       "3    1.0       89  66.0  23.0    94  28.1  0.167   21  tested_negative   \n",
       "6    3.0       78  50.0  32.0    88  31.0  0.248   26  tested_positive   \n",
       "7   10.0      115   0.0   0.0     0  35.3  0.134   29  tested_negative   \n",
       "20   3.0      126  88.0  41.0   235  39.3  0.704   27  tested_negative   \n",
       "23   9.0      119  80.0  35.0     0  29.0  0.263   29  tested_positive   \n",
       "\n",
       "    Glucose_in_mmol  \n",
       "3          4.939505  \n",
       "6          4.329004  \n",
       "7          6.382506  \n",
       "20         6.993007  \n",
       "23         6.604507  "
      ]
     },
     "execution_count": 81,
     "metadata": {},
     "output_type": "execute_result"
    }
   ],
   "source": [
    "fil_age_30less = diab_df[diab_df['age']<30]\n",
    "#new df = your df [ condition ]\n",
    "fil_age_30less.head()"
   ]
  },
  {
   "cell_type": "code",
   "execution_count": 85,
   "id": "1f9a6e58-c1f6-49a1-939e-588428121e3a",
   "metadata": {},
   "outputs": [
    {
     "data": {
      "text/html": [
       "<div>\n",
       "<style scoped>\n",
       "    .dataframe tbody tr th:only-of-type {\n",
       "        vertical-align: middle;\n",
       "    }\n",
       "\n",
       "    .dataframe tbody tr th {\n",
       "        vertical-align: top;\n",
       "    }\n",
       "\n",
       "    .dataframe thead th {\n",
       "        text-align: right;\n",
       "    }\n",
       "</style>\n",
       "<table border=\"1\" class=\"dataframe\">\n",
       "  <thead>\n",
       "    <tr style=\"text-align: right;\">\n",
       "      <th></th>\n",
       "      <th>preg</th>\n",
       "      <th>Glucose</th>\n",
       "      <th>pres</th>\n",
       "      <th>skin</th>\n",
       "      <th>insu</th>\n",
       "      <th>mass</th>\n",
       "      <th>pedi</th>\n",
       "      <th>age</th>\n",
       "      <th>class</th>\n",
       "      <th>Glucose_in_mmol</th>\n",
       "    </tr>\n",
       "  </thead>\n",
       "  <tbody>\n",
       "    <tr>\n",
       "      <th>0</th>\n",
       "      <td>6.0</td>\n",
       "      <td>148</td>\n",
       "      <td>72.0</td>\n",
       "      <td>35.0</td>\n",
       "      <td>0</td>\n",
       "      <td>33.6</td>\n",
       "      <td>0.627</td>\n",
       "      <td>50</td>\n",
       "      <td>tested_positive</td>\n",
       "      <td>8.214008</td>\n",
       "    </tr>\n",
       "    <tr>\n",
       "      <th>2</th>\n",
       "      <td>8.0</td>\n",
       "      <td>183</td>\n",
       "      <td>64.0</td>\n",
       "      <td>0.0</td>\n",
       "      <td>0</td>\n",
       "      <td>23.3</td>\n",
       "      <td>0.672</td>\n",
       "      <td>32</td>\n",
       "      <td>tested_positive</td>\n",
       "      <td>10.156510</td>\n",
       "    </tr>\n",
       "    <tr>\n",
       "      <th>4</th>\n",
       "      <td>0.0</td>\n",
       "      <td>137</td>\n",
       "      <td>40.0</td>\n",
       "      <td>35.0</td>\n",
       "      <td>168</td>\n",
       "      <td>43.1</td>\n",
       "      <td>2.288</td>\n",
       "      <td>33</td>\n",
       "      <td>tested_positive</td>\n",
       "      <td>7.603508</td>\n",
       "    </tr>\n",
       "    <tr>\n",
       "      <th>5</th>\n",
       "      <td>5.0</td>\n",
       "      <td>116</td>\n",
       "      <td>74.0</td>\n",
       "      <td>0.0</td>\n",
       "      <td>0</td>\n",
       "      <td>25.6</td>\n",
       "      <td>0.201</td>\n",
       "      <td>30</td>\n",
       "      <td>tested_negative</td>\n",
       "      <td>6.438006</td>\n",
       "    </tr>\n",
       "    <tr>\n",
       "      <th>7</th>\n",
       "      <td>10.0</td>\n",
       "      <td>115</td>\n",
       "      <td>0.0</td>\n",
       "      <td>0.0</td>\n",
       "      <td>0</td>\n",
       "      <td>35.3</td>\n",
       "      <td>0.134</td>\n",
       "      <td>29</td>\n",
       "      <td>tested_negative</td>\n",
       "      <td>6.382506</td>\n",
       "    </tr>\n",
       "    <tr>\n",
       "      <th>8</th>\n",
       "      <td>2.0</td>\n",
       "      <td>197</td>\n",
       "      <td>70.0</td>\n",
       "      <td>45.0</td>\n",
       "      <td>543</td>\n",
       "      <td>30.5</td>\n",
       "      <td>0.158</td>\n",
       "      <td>53</td>\n",
       "      <td>tested_positive</td>\n",
       "      <td>10.933511</td>\n",
       "    </tr>\n",
       "    <tr>\n",
       "      <th>9</th>\n",
       "      <td>8.0</td>\n",
       "      <td>125</td>\n",
       "      <td>96.0</td>\n",
       "      <td>0.0</td>\n",
       "      <td>0</td>\n",
       "      <td>0.0</td>\n",
       "      <td>0.232</td>\n",
       "      <td>54</td>\n",
       "      <td>tested_positive</td>\n",
       "      <td>6.937507</td>\n",
       "    </tr>\n",
       "  </tbody>\n",
       "</table>\n",
       "</div>"
      ],
      "text/plain": [
       "   preg  Glucose  pres  skin  insu  mass   pedi  age            class  \\\n",
       "0   6.0      148  72.0  35.0     0  33.6  0.627   50  tested_positive   \n",
       "2   8.0      183  64.0   0.0     0  23.3  0.672   32  tested_positive   \n",
       "4   0.0      137  40.0  35.0   168  43.1  2.288   33  tested_positive   \n",
       "5   5.0      116  74.0   0.0     0  25.6  0.201   30  tested_negative   \n",
       "7  10.0      115   0.0   0.0     0  35.3  0.134   29  tested_negative   \n",
       "8   2.0      197  70.0  45.0   543  30.5  0.158   53  tested_positive   \n",
       "9   8.0      125  96.0   0.0     0   0.0  0.232   54  tested_positive   \n",
       "\n",
       "   Glucose_in_mmol  \n",
       "0         8.214008  \n",
       "2        10.156510  \n",
       "4         7.603508  \n",
       "5         6.438006  \n",
       "7         6.382506  \n",
       "8        10.933511  \n",
       "9         6.937507  "
      ]
     },
     "execution_count": 85,
     "metadata": {},
     "output_type": "execute_result"
    }
   ],
   "source": [
    "glu_above_100 = diab_df[diab_df['Glucose']>100]\n",
    "glu_above_100.head(7)"
   ]
  },
  {
   "cell_type": "code",
   "execution_count": 87,
   "id": "7344b21c-94c6-4a77-992e-62bd41f68307",
   "metadata": {},
   "outputs": [
    {
     "data": {
      "text/html": [
       "<div>\n",
       "<style scoped>\n",
       "    .dataframe tbody tr th:only-of-type {\n",
       "        vertical-align: middle;\n",
       "    }\n",
       "\n",
       "    .dataframe tbody tr th {\n",
       "        vertical-align: top;\n",
       "    }\n",
       "\n",
       "    .dataframe thead th {\n",
       "        text-align: right;\n",
       "    }\n",
       "</style>\n",
       "<table border=\"1\" class=\"dataframe\">\n",
       "  <thead>\n",
       "    <tr style=\"text-align: right;\">\n",
       "      <th></th>\n",
       "      <th>preg</th>\n",
       "      <th>Glucose</th>\n",
       "      <th>pres</th>\n",
       "      <th>skin</th>\n",
       "      <th>insu</th>\n",
       "      <th>mass</th>\n",
       "      <th>pedi</th>\n",
       "      <th>age</th>\n",
       "      <th>class</th>\n",
       "      <th>Glucose_in_mmol</th>\n",
       "    </tr>\n",
       "  </thead>\n",
       "  <tbody>\n",
       "    <tr>\n",
       "      <th>3</th>\n",
       "      <td>1.0</td>\n",
       "      <td>89</td>\n",
       "      <td>66.0</td>\n",
       "      <td>23.0</td>\n",
       "      <td>94</td>\n",
       "      <td>28.1</td>\n",
       "      <td>0.167</td>\n",
       "      <td>21</td>\n",
       "      <td>tested_negative</td>\n",
       "      <td>4.939505</td>\n",
       "    </tr>\n",
       "    <tr>\n",
       "      <th>6</th>\n",
       "      <td>3.0</td>\n",
       "      <td>78</td>\n",
       "      <td>50.0</td>\n",
       "      <td>32.0</td>\n",
       "      <td>88</td>\n",
       "      <td>31.0</td>\n",
       "      <td>0.248</td>\n",
       "      <td>26</td>\n",
       "      <td>tested_positive</td>\n",
       "      <td>4.329004</td>\n",
       "    </tr>\n",
       "    <tr>\n",
       "      <th>7</th>\n",
       "      <td>10.0</td>\n",
       "      <td>115</td>\n",
       "      <td>0.0</td>\n",
       "      <td>0.0</td>\n",
       "      <td>0</td>\n",
       "      <td>35.3</td>\n",
       "      <td>0.134</td>\n",
       "      <td>29</td>\n",
       "      <td>tested_negative</td>\n",
       "      <td>6.382506</td>\n",
       "    </tr>\n",
       "    <tr>\n",
       "      <th>20</th>\n",
       "      <td>3.0</td>\n",
       "      <td>126</td>\n",
       "      <td>88.0</td>\n",
       "      <td>41.0</td>\n",
       "      <td>235</td>\n",
       "      <td>39.3</td>\n",
       "      <td>0.704</td>\n",
       "      <td>27</td>\n",
       "      <td>tested_negative</td>\n",
       "      <td>6.993007</td>\n",
       "    </tr>\n",
       "    <tr>\n",
       "      <th>23</th>\n",
       "      <td>9.0</td>\n",
       "      <td>119</td>\n",
       "      <td>80.0</td>\n",
       "      <td>35.0</td>\n",
       "      <td>0</td>\n",
       "      <td>29.0</td>\n",
       "      <td>0.263</td>\n",
       "      <td>29</td>\n",
       "      <td>tested_positive</td>\n",
       "      <td>6.604507</td>\n",
       "    </tr>\n",
       "    <tr>\n",
       "      <th>27</th>\n",
       "      <td>1.0</td>\n",
       "      <td>97</td>\n",
       "      <td>66.0</td>\n",
       "      <td>15.0</td>\n",
       "      <td>140</td>\n",
       "      <td>23.2</td>\n",
       "      <td>0.487</td>\n",
       "      <td>22</td>\n",
       "      <td>tested_negative</td>\n",
       "      <td>5.383505</td>\n",
       "    </tr>\n",
       "    <tr>\n",
       "      <th>31</th>\n",
       "      <td>3.0</td>\n",
       "      <td>158</td>\n",
       "      <td>76.0</td>\n",
       "      <td>36.0</td>\n",
       "      <td>245</td>\n",
       "      <td>31.6</td>\n",
       "      <td>0.851</td>\n",
       "      <td>28</td>\n",
       "      <td>tested_positive</td>\n",
       "      <td>8.769009</td>\n",
       "    </tr>\n",
       "  </tbody>\n",
       "</table>\n",
       "</div>"
      ],
      "text/plain": [
       "    preg  Glucose  pres  skin  insu  mass   pedi  age            class  \\\n",
       "3    1.0       89  66.0  23.0    94  28.1  0.167   21  tested_negative   \n",
       "6    3.0       78  50.0  32.0    88  31.0  0.248   26  tested_positive   \n",
       "7   10.0      115   0.0   0.0     0  35.3  0.134   29  tested_negative   \n",
       "20   3.0      126  88.0  41.0   235  39.3  0.704   27  tested_negative   \n",
       "23   9.0      119  80.0  35.0     0  29.0  0.263   29  tested_positive   \n",
       "27   1.0       97  66.0  15.0   140  23.2  0.487   22  tested_negative   \n",
       "31   3.0      158  76.0  36.0   245  31.6  0.851   28  tested_positive   \n",
       "\n",
       "    Glucose_in_mmol  \n",
       "3          4.939505  \n",
       "6          4.329004  \n",
       "7          6.382506  \n",
       "20         6.993007  \n",
       "23         6.604507  \n",
       "27         5.383505  \n",
       "31         8.769009  "
      ]
     },
     "execution_count": 87,
     "metadata": {},
     "output_type": "execute_result"
    }
   ],
   "source": [
    "age_20_to_30 = diab_df[(diab_df['age']>20) & (diab_df['age']<30)]\n",
    "age_20_to_30.head(7)"
   ]
  },
  {
   "cell_type": "markdown",
   "id": "b0e0e3f6-ba6a-4f87-9007-6a9ba1741d2b",
   "metadata": {},
   "source": [
    "Grouping and deriving Results"
   ]
  },
  {
   "cell_type": "code",
   "execution_count": 95,
   "id": "90109f81-4cc9-4e88-abf6-81a85fcd4551",
   "metadata": {},
   "outputs": [],
   "source": [
    "#Group by class and calculate average age\n",
    "grouped_by_class_age = diab_df.groupby('class')['age'].mean()"
   ]
  },
  {
   "cell_type": "code",
   "execution_count": 97,
   "id": "8f1ffa89-41bf-454e-93db-723fe4db841e",
   "metadata": {},
   "outputs": [
    {
     "data": {
      "text/plain": [
       "class\n",
       "tested_negative    31.238095\n",
       "tested_positive    40.589744\n",
       "Name: age, dtype: float64"
      ]
     },
     "execution_count": 97,
     "metadata": {},
     "output_type": "execute_result"
    }
   ],
   "source": [
    "grouped_by_class_age\n",
    "#Results:\n",
    "# The average age of diabetic people is 40.5\n",
    "# The average age of non-diabetic people is 31.2"
   ]
  },
  {
   "cell_type": "code",
   "execution_count": 99,
   "id": "664940d8-5dd5-41a9-b1f5-adbb7ee3d07f",
   "metadata": {},
   "outputs": [
    {
     "data": {
      "text/plain": [
       "class\n",
       "tested_negative     52.571429\n",
       "tested_positive    114.692308\n",
       "Name: insu, dtype: float64"
      ]
     },
     "execution_count": 99,
     "metadata": {},
     "output_type": "execute_result"
    }
   ],
   "source": [
    "group_class_ins = diab_df.groupby('class')['insu'].mean()\n",
    "group_class_ins\n",
    "#Results:\n",
    "# The average insulin level of diabetic people is 114.6\n",
    "# The average insulin level of non-diabetic people is 52.5"
   ]
  },
  {
   "cell_type": "code",
   "execution_count": 105,
   "id": "71e6e8de-d293-40af-8aac-07b45178ede1",
   "metadata": {},
   "outputs": [
    {
     "data": {
      "text/plain": [
       "class\n",
       "tested_negative    21\n",
       "tested_positive    25\n",
       "Name: age, dtype: int64"
      ]
     },
     "execution_count": 105,
     "metadata": {},
     "output_type": "execute_result"
    }
   ],
   "source": [
    "group_class_min = diab_df.groupby('class')['age'].min()\n",
    "group_class_min\n",
    "#Results:\n",
    "# The least age of diabetic people is 25\n",
    "# The leaat age of non-diabetic people is 21"
   ]
  },
  {
   "cell_type": "markdown",
   "id": "532d2244-b69a-41ae-96f9-bef68a34af7a",
   "metadata": {},
   "source": [
    "Cleaning Data"
   ]
  },
  {
   "cell_type": "markdown",
   "id": "a9fca47a-56d0-4a4f-94f2-18a39e377a69",
   "metadata": {},
   "source": [
    "Handling Nulls"
   ]
  },
  {
   "cell_type": "code",
   "execution_count": 112,
   "id": "7adaddd7-bbb4-4e7d-93d2-5b2102d53876",
   "metadata": {},
   "outputs": [
    {
     "data": {
      "text/plain": [
       "preg               1\n",
       "Glucose            0\n",
       "pres               1\n",
       "skin               1\n",
       "insu               0\n",
       "mass               1\n",
       "pedi               1\n",
       "age                0\n",
       "class              0\n",
       "Glucose_in_mmol    0\n",
       "dtype: int64"
      ]
     },
     "execution_count": 112,
     "metadata": {},
     "output_type": "execute_result"
    }
   ],
   "source": [
    "diab_df.isnull().sum()"
   ]
  },
  {
   "cell_type": "code",
   "execution_count": 116,
   "id": "1267de72-0ea9-41bd-85a3-3e000ddefb65",
   "metadata": {},
   "outputs": [
    {
     "name": "stdout",
     "output_type": "stream",
     "text": [
      "<class 'pandas.core.frame.DataFrame'>\n",
      "RangeIndex: 102 entries, 0 to 101\n",
      "Data columns (total 10 columns):\n",
      " #   Column           Non-Null Count  Dtype  \n",
      "---  ------           --------------  -----  \n",
      " 0   preg             101 non-null    float64\n",
      " 1   Glucose          102 non-null    int64  \n",
      " 2   pres             101 non-null    float64\n",
      " 3   skin             101 non-null    float64\n",
      " 4   insu             102 non-null    int64  \n",
      " 5   mass             101 non-null    float64\n",
      " 6   pedi             101 non-null    float64\n",
      " 7   age              102 non-null    int64  \n",
      " 8   class            102 non-null    object \n",
      " 9   Glucose_in_mmol  102 non-null    float64\n",
      "dtypes: float64(6), int64(3), object(1)\n",
      "memory usage: 8.1+ KB\n"
     ]
    }
   ],
   "source": [
    "diab_df.info()"
   ]
  },
  {
   "cell_type": "code",
   "execution_count": 122,
   "id": "cad3704c-6866-4e71-ab63-8088ded16050",
   "metadata": {},
   "outputs": [],
   "source": [
    "diab_df.dropna(inplace = True)"
   ]
  },
  {
   "cell_type": "code",
   "execution_count": 126,
   "id": "af90e6c3-df97-4f5d-83e4-c7f73cccb097",
   "metadata": {},
   "outputs": [
    {
     "data": {
      "text/plain": [
       "preg               0\n",
       "Glucose            0\n",
       "pres               0\n",
       "skin               0\n",
       "insu               0\n",
       "mass               0\n",
       "pedi               0\n",
       "age                0\n",
       "class              0\n",
       "Glucose_in_mmol    0\n",
       "dtype: int64"
      ]
     },
     "execution_count": 126,
     "metadata": {},
     "output_type": "execute_result"
    }
   ],
   "source": [
    "diab_df.isnull().sum()"
   ]
  },
  {
   "cell_type": "markdown",
   "id": "d48527d3-fc9a-455f-a937-d55e032ee83e",
   "metadata": {},
   "source": [
    "Handling Duplicates"
   ]
  },
  {
   "cell_type": "code",
   "execution_count": 129,
   "id": "93815ae8-acd5-43cb-8959-bcb1f2533146",
   "metadata": {},
   "outputs": [
    {
     "name": "stdout",
     "output_type": "stream",
     "text": [
      "<class 'pandas.core.frame.DataFrame'>\n",
      "Index: 98 entries, 0 to 101\n",
      "Data columns (total 10 columns):\n",
      " #   Column           Non-Null Count  Dtype  \n",
      "---  ------           --------------  -----  \n",
      " 0   preg             98 non-null     float64\n",
      " 1   Glucose          98 non-null     int64  \n",
      " 2   pres             98 non-null     float64\n",
      " 3   skin             98 non-null     float64\n",
      " 4   insu             98 non-null     int64  \n",
      " 5   mass             98 non-null     float64\n",
      " 6   pedi             98 non-null     float64\n",
      " 7   age              98 non-null     int64  \n",
      " 8   class            98 non-null     object \n",
      " 9   Glucose_in_mmol  98 non-null     float64\n",
      "dtypes: float64(6), int64(3), object(1)\n",
      "memory usage: 8.4+ KB\n"
     ]
    }
   ],
   "source": [
    "diab_df.info()"
   ]
  },
  {
   "cell_type": "code",
   "execution_count": 133,
   "id": "c94eef83-9832-4155-aa5d-888b35c6ed8d",
   "metadata": {},
   "outputs": [],
   "source": [
    "diab_df.drop_duplicates(inplace = True)"
   ]
  },
  {
   "cell_type": "code",
   "execution_count": 135,
   "id": "1fd49149-72bb-4c48-a240-b37cb2e4a49d",
   "metadata": {},
   "outputs": [
    {
     "name": "stdout",
     "output_type": "stream",
     "text": [
      "<class 'pandas.core.frame.DataFrame'>\n",
      "Index: 96 entries, 0 to 101\n",
      "Data columns (total 10 columns):\n",
      " #   Column           Non-Null Count  Dtype  \n",
      "---  ------           --------------  -----  \n",
      " 0   preg             96 non-null     float64\n",
      " 1   Glucose          96 non-null     int64  \n",
      " 2   pres             96 non-null     float64\n",
      " 3   skin             96 non-null     float64\n",
      " 4   insu             96 non-null     int64  \n",
      " 5   mass             96 non-null     float64\n",
      " 6   pedi             96 non-null     float64\n",
      " 7   age              96 non-null     int64  \n",
      " 8   class            96 non-null     object \n",
      " 9   Glucose_in_mmol  96 non-null     float64\n",
      "dtypes: float64(6), int64(3), object(1)\n",
      "memory usage: 8.2+ KB\n"
     ]
    }
   ],
   "source": [
    "diab_df.info()"
   ]
  },
  {
   "cell_type": "markdown",
   "id": "4761e9f4-c2fc-4d42-8106-f06bdb70f23c",
   "metadata": {},
   "source": [
    "Reading Other formats"
   ]
  },
  {
   "cell_type": "code",
   "execution_count": 138,
   "id": "652bc95e-9fdb-4394-a5e1-63ba5f407496",
   "metadata": {},
   "outputs": [
    {
     "data": {
      "text/html": [
       "<div>\n",
       "<style scoped>\n",
       "    .dataframe tbody tr th:only-of-type {\n",
       "        vertical-align: middle;\n",
       "    }\n",
       "\n",
       "    .dataframe tbody tr th {\n",
       "        vertical-align: top;\n",
       "    }\n",
       "\n",
       "    .dataframe thead th {\n",
       "        text-align: right;\n",
       "    }\n",
       "</style>\n",
       "<table border=\"1\" class=\"dataframe\">\n",
       "  <thead>\n",
       "    <tr style=\"text-align: right;\">\n",
       "      <th></th>\n",
       "      <th>preg</th>\n",
       "      <th>plas</th>\n",
       "      <th>pres</th>\n",
       "      <th>skin</th>\n",
       "      <th>insu</th>\n",
       "      <th>mass</th>\n",
       "      <th>pedi</th>\n",
       "      <th>age</th>\n",
       "      <th>class</th>\n",
       "    </tr>\n",
       "  </thead>\n",
       "  <tbody>\n",
       "    <tr>\n",
       "      <th>0</th>\n",
       "      <td>6</td>\n",
       "      <td>148</td>\n",
       "      <td>72</td>\n",
       "      <td>35</td>\n",
       "      <td>0</td>\n",
       "      <td>33.6</td>\n",
       "      <td>0.627</td>\n",
       "      <td>50</td>\n",
       "      <td>tested_positive</td>\n",
       "    </tr>\n",
       "    <tr>\n",
       "      <th>1</th>\n",
       "      <td>1</td>\n",
       "      <td>85</td>\n",
       "      <td>66</td>\n",
       "      <td>29</td>\n",
       "      <td>0</td>\n",
       "      <td>26.6</td>\n",
       "      <td>0.351</td>\n",
       "      <td>31</td>\n",
       "      <td>tested_negative</td>\n",
       "    </tr>\n",
       "    <tr>\n",
       "      <th>2</th>\n",
       "      <td>8</td>\n",
       "      <td>183</td>\n",
       "      <td>64</td>\n",
       "      <td>0</td>\n",
       "      <td>0</td>\n",
       "      <td>23.3</td>\n",
       "      <td>0.672</td>\n",
       "      <td>32</td>\n",
       "      <td>tested_positive</td>\n",
       "    </tr>\n",
       "    <tr>\n",
       "      <th>3</th>\n",
       "      <td>1</td>\n",
       "      <td>89</td>\n",
       "      <td>66</td>\n",
       "      <td>23</td>\n",
       "      <td>94</td>\n",
       "      <td>28.1</td>\n",
       "      <td>0.167</td>\n",
       "      <td>21</td>\n",
       "      <td>tested_negative</td>\n",
       "    </tr>\n",
       "    <tr>\n",
       "      <th>4</th>\n",
       "      <td>0</td>\n",
       "      <td>137</td>\n",
       "      <td>40</td>\n",
       "      <td>35</td>\n",
       "      <td>168</td>\n",
       "      <td>43.1</td>\n",
       "      <td>2.288</td>\n",
       "      <td>33</td>\n",
       "      <td>tested_positive</td>\n",
       "    </tr>\n",
       "  </tbody>\n",
       "</table>\n",
       "</div>"
      ],
      "text/plain": [
       "   preg  plas  pres  skin  insu  mass   pedi  age            class\n",
       "0     6   148    72    35     0  33.6  0.627   50  tested_positive\n",
       "1     1    85    66    29     0  26.6  0.351   31  tested_negative\n",
       "2     8   183    64     0     0  23.3  0.672   32  tested_positive\n",
       "3     1    89    66    23    94  28.1  0.167   21  tested_negative\n",
       "4     0   137    40    35   168  43.1  2.288   33  tested_positive"
      ]
     },
     "execution_count": 138,
     "metadata": {},
     "output_type": "execute_result"
    }
   ],
   "source": [
    "dia_ex = pd.read_excel(r\"D:\\Datasets\\Csv_excel_txt\\diabetes.xlsx\")\n",
    "dia_ex.head()"
   ]
  },
  {
   "cell_type": "code",
   "execution_count": 144,
   "id": "561ff770-a9ca-4b45-89ca-8e9338a71fd6",
   "metadata": {},
   "outputs": [
    {
     "data": {
      "text/html": [
       "<div>\n",
       "<style scoped>\n",
       "    .dataframe tbody tr th:only-of-type {\n",
       "        vertical-align: middle;\n",
       "    }\n",
       "\n",
       "    .dataframe tbody tr th {\n",
       "        vertical-align: top;\n",
       "    }\n",
       "\n",
       "    .dataframe thead th {\n",
       "        text-align: right;\n",
       "    }\n",
       "</style>\n",
       "<table border=\"1\" class=\"dataframe\">\n",
       "  <thead>\n",
       "    <tr style=\"text-align: right;\">\n",
       "      <th></th>\n",
       "      <th>Dead</th>\n",
       "      <th>Alive</th>\n",
       "    </tr>\n",
       "  </thead>\n",
       "  <tbody>\n",
       "    <tr>\n",
       "      <th>0</th>\n",
       "      <td>yes</td>\n",
       "      <td>no</td>\n",
       "    </tr>\n",
       "    <tr>\n",
       "      <th>1</th>\n",
       "      <td>yes</td>\n",
       "      <td>no</td>\n",
       "    </tr>\n",
       "    <tr>\n",
       "      <th>2</th>\n",
       "      <td>yes</td>\n",
       "      <td>no</td>\n",
       "    </tr>\n",
       "    <tr>\n",
       "      <th>3</th>\n",
       "      <td>yes</td>\n",
       "      <td>no</td>\n",
       "    </tr>\n",
       "    <tr>\n",
       "      <th>4</th>\n",
       "      <td>yes</td>\n",
       "      <td>no</td>\n",
       "    </tr>\n",
       "  </tbody>\n",
       "</table>\n",
       "</div>"
      ],
      "text/plain": [
       "  Dead Alive\n",
       "0  yes    no\n",
       "1  yes    no\n",
       "2  yes    no\n",
       "3  yes    no\n",
       "4  yes    no"
      ]
     },
     "execution_count": 144,
     "metadata": {},
     "output_type": "execute_result"
    }
   ],
   "source": [
    "dia_ex_sheet2 = pd.read_excel(r\"D:\\Datasets\\Csv_excel_txt\\diabetes.xlsx\", sheet_name= \"dora\")\n",
    "dia_ex_sheet2.head()"
   ]
  },
  {
   "cell_type": "code",
   "execution_count": 158,
   "id": "80d989c6-ea71-412f-a78a-6af3ef8b32f5",
   "metadata": {},
   "outputs": [
    {
     "data": {
      "text/html": [
       "<div>\n",
       "<style scoped>\n",
       "    .dataframe tbody tr th:only-of-type {\n",
       "        vertical-align: middle;\n",
       "    }\n",
       "\n",
       "    .dataframe tbody tr th {\n",
       "        vertical-align: top;\n",
       "    }\n",
       "\n",
       "    .dataframe thead th {\n",
       "        text-align: right;\n",
       "    }\n",
       "</style>\n",
       "<table border=\"1\" class=\"dataframe\">\n",
       "  <thead>\n",
       "    <tr style=\"text-align: right;\">\n",
       "      <th></th>\n",
       "      <th>Names</th>\n",
       "      <th>Initials</th>\n",
       "      <th>SEM1</th>\n",
       "      <th>SEM2</th>\n",
       "      <th>SEM3</th>\n",
       "      <th>Grade</th>\n",
       "    </tr>\n",
       "  </thead>\n",
       "  <tbody>\n",
       "    <tr>\n",
       "      <th>0</th>\n",
       "      <td>Joe</td>\n",
       "      <td>K</td>\n",
       "      <td>9.8</td>\n",
       "      <td>10.0</td>\n",
       "      <td>9.9</td>\n",
       "      <td>A+</td>\n",
       "    </tr>\n",
       "    <tr>\n",
       "      <th>1</th>\n",
       "      <td>Rajesh</td>\n",
       "      <td>M</td>\n",
       "      <td>8.9</td>\n",
       "      <td>9.1</td>\n",
       "      <td>9.3</td>\n",
       "      <td>A</td>\n",
       "    </tr>\n",
       "    <tr>\n",
       "      <th>2</th>\n",
       "      <td>Kissan</td>\n",
       "      <td>V</td>\n",
       "      <td>9.9</td>\n",
       "      <td>9.3</td>\n",
       "      <td>9.2</td>\n",
       "      <td>A</td>\n",
       "    </tr>\n",
       "    <tr>\n",
       "      <th>3</th>\n",
       "      <td>Mary</td>\n",
       "      <td>N</td>\n",
       "      <td>7.7</td>\n",
       "      <td>8.0</td>\n",
       "      <td>7.1</td>\n",
       "      <td>B</td>\n",
       "    </tr>\n",
       "    <tr>\n",
       "      <th>4</th>\n",
       "      <td>Jeen</td>\n",
       "      <td>K</td>\n",
       "      <td>9.8</td>\n",
       "      <td>9.1</td>\n",
       "      <td>9.9</td>\n",
       "      <td>A+</td>\n",
       "    </tr>\n",
       "    <tr>\n",
       "      <th>5</th>\n",
       "      <td>Raj</td>\n",
       "      <td>M</td>\n",
       "      <td>8.9</td>\n",
       "      <td>9.1</td>\n",
       "      <td>9.3</td>\n",
       "      <td>A</td>\n",
       "    </tr>\n",
       "    <tr>\n",
       "      <th>6</th>\n",
       "      <td>Hassan</td>\n",
       "      <td>V</td>\n",
       "      <td>9.9</td>\n",
       "      <td>9.0</td>\n",
       "      <td>9.2</td>\n",
       "      <td>A</td>\n",
       "    </tr>\n",
       "    <tr>\n",
       "      <th>7</th>\n",
       "      <td>Mari</td>\n",
       "      <td>N</td>\n",
       "      <td>7.7</td>\n",
       "      <td>8.0</td>\n",
       "      <td>7.1</td>\n",
       "      <td>B</td>\n",
       "    </tr>\n",
       "    <tr>\n",
       "      <th>8</th>\n",
       "      <td>Jess</td>\n",
       "      <td>K</td>\n",
       "      <td>9.8</td>\n",
       "      <td>9.1</td>\n",
       "      <td>9.9</td>\n",
       "      <td>A+</td>\n",
       "    </tr>\n",
       "    <tr>\n",
       "      <th>9</th>\n",
       "      <td>Rajini</td>\n",
       "      <td>M</td>\n",
       "      <td>7.0</td>\n",
       "      <td>9.1</td>\n",
       "      <td>9.3</td>\n",
       "      <td>A</td>\n",
       "    </tr>\n",
       "  </tbody>\n",
       "</table>\n",
       "</div>"
      ],
      "text/plain": [
       "    Names Initials  SEM1  SEM2  SEM3 Grade\n",
       "0     Joe        K   9.8  10.0   9.9    A+\n",
       "1  Rajesh        M   8.9   9.1   9.3     A\n",
       "2  Kissan        V   9.9   9.3   9.2     A\n",
       "3    Mary        N   7.7   8.0   7.1     B\n",
       "4    Jeen        K   9.8   9.1   9.9    A+\n",
       "5     Raj        M   8.9   9.1   9.3     A\n",
       "6  Hassan        V   9.9   9.0   9.2     A\n",
       "7    Mari        N   7.7   8.0   7.1     B\n",
       "8    Jess        K   9.8   9.1   9.9    A+\n",
       "9  Rajini        M   7.0   9.1   9.3     A"
      ]
     },
     "execution_count": 158,
     "metadata": {},
     "output_type": "execute_result"
    }
   ],
   "source": [
    "#loading txt file\n",
    "df_txt = pd.read_csv(r\"D:\\Datasets\\Csv_excel_txt\\grades.txt\", sep = \" \")\n",
    "df_txt.head(10)"
   ]
  },
  {
   "cell_type": "markdown",
   "id": "e75ae841-da28-4d90-aae8-83e7b06e63c6",
   "metadata": {},
   "source": [
    "Modifying data type"
   ]
  },
  {
   "cell_type": "code",
   "execution_count": 161,
   "id": "63807a8c-5918-4358-8e15-710de81f87ff",
   "metadata": {},
   "outputs": [
    {
     "data": {
      "text/html": [
       "<div>\n",
       "<style scoped>\n",
       "    .dataframe tbody tr th:only-of-type {\n",
       "        vertical-align: middle;\n",
       "    }\n",
       "\n",
       "    .dataframe tbody tr th {\n",
       "        vertical-align: top;\n",
       "    }\n",
       "\n",
       "    .dataframe thead th {\n",
       "        text-align: right;\n",
       "    }\n",
       "</style>\n",
       "<table border=\"1\" class=\"dataframe\">\n",
       "  <thead>\n",
       "    <tr style=\"text-align: right;\">\n",
       "      <th></th>\n",
       "      <th>Names</th>\n",
       "      <th>Initials</th>\n",
       "      <th>SEM1</th>\n",
       "      <th>SEM2</th>\n",
       "      <th>SEM3</th>\n",
       "      <th>Grade</th>\n",
       "      <th>SEM1_int</th>\n",
       "    </tr>\n",
       "  </thead>\n",
       "  <tbody>\n",
       "    <tr>\n",
       "      <th>0</th>\n",
       "      <td>Joe</td>\n",
       "      <td>K</td>\n",
       "      <td>9.8</td>\n",
       "      <td>10.0</td>\n",
       "      <td>9.9</td>\n",
       "      <td>A+</td>\n",
       "      <td>9</td>\n",
       "    </tr>\n",
       "    <tr>\n",
       "      <th>1</th>\n",
       "      <td>Rajesh</td>\n",
       "      <td>M</td>\n",
       "      <td>8.9</td>\n",
       "      <td>9.1</td>\n",
       "      <td>9.3</td>\n",
       "      <td>A</td>\n",
       "      <td>8</td>\n",
       "    </tr>\n",
       "    <tr>\n",
       "      <th>2</th>\n",
       "      <td>Kissan</td>\n",
       "      <td>V</td>\n",
       "      <td>9.9</td>\n",
       "      <td>9.3</td>\n",
       "      <td>9.2</td>\n",
       "      <td>A</td>\n",
       "      <td>9</td>\n",
       "    </tr>\n",
       "    <tr>\n",
       "      <th>3</th>\n",
       "      <td>Mary</td>\n",
       "      <td>N</td>\n",
       "      <td>7.7</td>\n",
       "      <td>8.0</td>\n",
       "      <td>7.1</td>\n",
       "      <td>B</td>\n",
       "      <td>7</td>\n",
       "    </tr>\n",
       "    <tr>\n",
       "      <th>4</th>\n",
       "      <td>Jeen</td>\n",
       "      <td>K</td>\n",
       "      <td>9.8</td>\n",
       "      <td>9.1</td>\n",
       "      <td>9.9</td>\n",
       "      <td>A+</td>\n",
       "      <td>9</td>\n",
       "    </tr>\n",
       "  </tbody>\n",
       "</table>\n",
       "</div>"
      ],
      "text/plain": [
       "    Names Initials  SEM1  SEM2  SEM3 Grade  SEM1_int\n",
       "0     Joe        K   9.8  10.0   9.9    A+         9\n",
       "1  Rajesh        M   8.9   9.1   9.3     A         8\n",
       "2  Kissan        V   9.9   9.3   9.2     A         9\n",
       "3    Mary        N   7.7   8.0   7.1     B         7\n",
       "4    Jeen        K   9.8   9.1   9.9    A+         9"
      ]
     },
     "execution_count": 161,
     "metadata": {},
     "output_type": "execute_result"
    }
   ],
   "source": [
    "df_txt['SEM1_int'] = df_txt['SEM1'].astype(int)\n",
    "df_txt.head()"
   ]
  },
  {
   "cell_type": "markdown",
   "id": "bffda547-49c1-4524-89e3-8b2554718ba9",
   "metadata": {},
   "source": [
    "MatplotLib"
   ]
  },
  {
   "cell_type": "code",
   "execution_count": 164,
   "id": "c9752453-42c3-476e-95fd-5fa8c43b9b8c",
   "metadata": {},
   "outputs": [],
   "source": [
    "x = [1,2,3,4,5]\n",
    "y = [20,30,40,50,55]"
   ]
  },
  {
   "cell_type": "code",
   "execution_count": 182,
   "id": "2e43a2aa-9c74-4e63-8b43-3443c92a0c42",
   "metadata": {},
   "outputs": [
    {
     "data": {
      "text/plain": [
       "<matplotlib.legend.Legend at 0x154988c1640>"
      ]
     },
     "execution_count": 182,
     "metadata": {},
     "output_type": "execute_result"
    },
    {
     "data": {
      "image/png": "[encoded data removed]",
      "text/plain": [
       "<Figure size 640x480 with 1 Axes>"
      ]
     },
     "metadata": {},
     "output_type": "display_data"
    }
   ],
   "source": [
    "import matplotlib.pyplot as plt\n",
    "plt.plot(x,y, color = 'k', label = \"xy plot\", linestyle = \"-.\", linewidth = 3)\n",
    "plt.xlabel(\"X\")\n",
    "plt.ylabel(\"Y\")\n",
    "plt.grid()\n",
    "plt.legend()"
   ]
  },
  {
   "cell_type": "code",
   "execution_count": 188,
   "id": "532437b6-bd4d-444e-95ab-8d620b7f1830",
   "metadata": {},
   "outputs": [
    {
     "data": {
      "text/plain": [
       "<matplotlib.legend.Legend at 0x1549b13daf0>"
      ]
     },
     "execution_count": 188,
     "metadata": {},
     "output_type": "execute_result"
    },
    {
     "data": {
      "image/png": "[encoded data removed]",
      "text/plain": [
       "<Figure size 640x480 with 1 Axes>"
      ]
     },
     "metadata": {},
     "output_type": "display_data"
    }
   ],
   "source": [
    "sub = [\"ADA\", \"AJ\", \"Bio\", \"GT\", \"DBMS\"]\n",
    "Bhoomi = [99, 89, 78, 98, 93]\n",
    "Rakesh = [91, 88, 77, 93, 90]\n",
    "plt.scatter(sub, Bhoomi, color = 'k' , label = \"Bhoomi scores\", marker = \"D\")\n",
    "plt.scatter(sub, Rakesh, color = 'green' , label = \"Rakesh scores\", marker = \"h\")\n",
    "plt.xlabel(\"Subjects\")\n",
    "plt.ylabel(\"Scores\")\n",
    "plt.legend()"
   ]
  },
  {
   "cell_type": "code",
   "execution_count": null,
   "id": "eb116acf-bed3-4fbd-8f9e-b0093010089c",
   "metadata": {},
   "outputs": [],
   "source": []
  },
  {
   "cell_type": "code",
   "execution_count": 190,
   "id": "803ecdbf-f3e3-4290-b936-be85b1d5afae",
   "metadata": {},
   "outputs": [
    {
     "data": {
      "text/plain": [
       "<matplotlib.legend.Legend at 0x1549ad95280>"
      ]
     },
     "execution_count": 190,
     "metadata": {},
     "output_type": "execute_result"
    },
    {
     "data": {
      "image/png": "[encoded data removed]",
      "text/plain": [
       "<Figure size 640x480 with 2 Axes>"
      ]
     },
     "metadata": {},
     "output_type": "display_data"
    }
   ],
   "source": [
    "sub = [\"ADA\", \"AJ\", \"Bio\", \"GT\", \"DBMS\"]\n",
    "Bhoomi = [99, 89, 78, 98, 93]\n",
    "Rakesh = [91, 88, 77, 93, 90]\n",
    "#firstplot\n",
    "plt.subplot(1,2,1)\n",
    "plt.bar(sub, Bhoomi, color = 'k' , label = \"Bhoomi scores\")\n",
    "plt.xlabel(\"Subjects\")\n",
    "plt.ylabel(\"Scores\")\n",
    "plt.legend()\n",
    "#second plot\n",
    "plt.subplot(1,2,2)\n",
    "plt.bar(sub, Rakesh, color = 'green' , label = \"Rakesh scores\")\n",
    "plt.xlabel(\"Subjects\")\n",
    "plt.ylabel(\"Scores\")\n",
    "plt.legend()"
   ]
  },
  {
   "cell_type": "code",
   "execution_count": 194,
   "id": "1c3366cd-8a9e-4e9b-970b-3052352fee15",
   "metadata": {},
   "outputs": [
    {
     "data": {
      "text/plain": [
       "<matplotlib.legend.Legend at 0x1549b17bd10>"
      ]
     },
     "execution_count": 194,
     "metadata": {},
     "output_type": "execute_result"
    },
    {
     "data": {
      "image/png": "[encoded data removed]",
      "text/plain": [
       "<Figure size 640x480 with 1 Axes>"
      ]
     },
     "metadata": {},
     "output_type": "display_data"
    }
   ],
   "source": [
    "sub = [\"ADA\", \"AJ\", \"Bio\", \"GT\", \"DBMS\"]\n",
    "Bhoomi = [99, 89, 78, 98, 93]\n",
    "Rakesh = [91, 88, 77, 93, 90]\n",
    "plt.bar(sub, Bhoomi, color = 'k' , label = \"Bhoomi scores\", width=0.5, align = \"center\")\n",
    "plt.bar(sub, Rakesh, color = 'green' , label = \"Rakesh scores\", width=0.5, align= \"edge\")\n",
    "plt.xlabel(\"Subjects\")\n",
    "plt.ylabel(\"Scores\")\n",
    "plt.legend()"
   ]
  },
  {
   "cell_type": "code",
   "execution_count": null,
   "id": "b722eb94-221d-4346-9759-802964d61357",
   "metadata": {},
   "outputs": [],
   "source": []
  }
 ],
 "metadata": {
  "kernelspec": {
   "display_name": "Python [conda env:base] *",
   "language": "python",
   "name": "conda-base-py"
  },
  "language_info": {
   "codemirror_mode": {
    "name": "ipython",
    "version": 3
   },
   "file_extension": ".py",
   "mimetype": "text/x-python",
   "name": "python",
   "nbconvert_exporter": "python",
   "pygments_lexer": "ipython3",
   "version": "3.12.4"
  }
 },
 "nbformat": 4,
 "nbformat_minor": 5
}
