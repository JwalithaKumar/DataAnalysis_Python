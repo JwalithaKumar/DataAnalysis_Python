{
 "cells": [
  {
   "cell_type": "markdown",
   "id": "94427ef4-d6f4-4b45-8d56-9b4684b98c3f",
   "metadata": {},
   "source": [
    "Importing"
   ]
  },
  {
   "cell_type": "code",
   "execution_count": 2,
   "id": "94358181-97c2-4d06-a40e-caeaf4dd8341",
   "metadata": {},
   "outputs": [],
   "source": [
    "import pandas as pd"
   ]
  },
  {
   "cell_type": "markdown",
   "id": "1ed42907-90d3-4da0-8b34-7bbb6baefe6b",
   "metadata": {},
   "source": [
    "# Series"
   ]
  },
  {
   "cell_type": "markdown",
   "id": "678b493b-17da-4006-be58-4453e5f558cb",
   "metadata": {},
   "source": [
    "Creating Series"
   ]
  },
  {
   "cell_type": "code",
   "execution_count": 10,
   "id": "ea447c5f-54ce-4dd7-b256-5ccb37c05e4b",
   "metadata": {},
   "outputs": [
    {
     "name": "stdout",
     "output_type": "stream",
     "text": [
      "0    56\n",
      "1    78\n",
      "2    12\n",
      "3    34\n",
      "4    55\n",
      "dtype: int64\n"
     ]
    }
   ],
   "source": [
    "mydata1 = [56,78,12,34,55]\n",
    "s1 = pd.Series(mydata)\n",
    "print(s1)"
   ]
  },
  {
   "cell_type": "markdown",
   "id": "575e144f-673b-458e-876c-aab9cbc96608",
   "metadata": {},
   "source": [
    "Creating Series with Custom Index"
   ]
  },
  {
   "cell_type": "code",
   "execution_count": 12,
   "id": "398ebf96-f7b6-4ca9-a38c-dee2e9a756f8",
   "metadata": {},
   "outputs": [
    {
     "name": "stdout",
     "output_type": "stream",
     "text": [
      "A    56\n",
      "B    78\n",
      "C    12\n",
      "D    34\n",
      "E    55\n",
      "dtype: int64\n"
     ]
    }
   ],
   "source": [
    "mydata2 = [56,78,12,34,55]\n",
    "myindex = ['A', 'B','C', 'D', 'E']\n",
    "s2 = pd.Series(mydata2, index = myindex)\n",
    "print(s2)"
   ]
  },
  {
   "cell_type": "markdown",
   "id": "58086949-5137-4b20-9043-e820b7d8798d",
   "metadata": {},
   "source": [
    "Access"
   ]
  },
  {
   "cell_type": "code",
   "execution_count": 16,
   "id": "e4ca96cc-8829-4d45-ac5c-2d6a22b7a8d6",
   "metadata": {},
   "outputs": [
    {
     "name": "stdout",
     "output_type": "stream",
     "text": [
      "55\n",
      "12\n"
     ]
    }
   ],
   "source": [
    "print(s1[4])\n",
    "print(s2[\"C\"])"
   ]
  },
  {
   "cell_type": "markdown",
   "id": "98869b36-61ff-47fa-b9d9-6e33337f4299",
   "metadata": {},
   "source": [
    "# Data frames"
   ]
  },
  {
   "cell_type": "markdown",
   "id": "2ba8cf7e-b2dc-4f83-b141-9c1fe8b7a29b",
   "metadata": {},
   "source": [
    "Creating Data frame from dictionary"
   ]
  },
  {
   "cell_type": "code",
   "execution_count": 20,
   "id": "ffd545ef-b06c-4c68-aa0b-1c13f420dcb6",
   "metadata": {},
   "outputs": [],
   "source": [
    "dict1 = { 'Name' : ['Ananya' , 'Navya' , 'Aishvika'],\n",
    "          'Age'  : [19, 21, 20],\n",
    "          'City' : [\"Bangalore\", \"Shimoga\", \"Dandeli\"]\n",
    "        }"
   ]
  },
  {
   "cell_type": "code",
   "execution_count": 22,
   "id": "8f2a816e-2552-4043-9ef5-9b63a7c9b140",
   "metadata": {},
   "outputs": [],
   "source": [
    "df_dict = pd.DataFrame(dict1)"
   ]
  },
  {
   "cell_type": "code",
   "execution_count": 24,
   "id": "47d83c1c-6392-4bee-ab8b-0fdae57aaec5",
   "metadata": {},
   "outputs": [
    {
     "name": "stdout",
     "output_type": "stream",
     "text": [
      "       Name  Age       City\n",
      "0    Ananya   19  Bangalore\n",
      "1     Navya   21    Shimoga\n",
      "2  Aishvika   20    Dandeli\n"
     ]
    }
   ],
   "source": [
    "print(df_dict)"
   ]
  },
  {
   "cell_type": "markdown",
   "id": "7e53d74e-7e0f-47e2-8d92-fec918f13cf8",
   "metadata": {},
   "source": [
    "Saving thi data in a csv file"
   ]
  },
  {
   "cell_type": "code",
   "execution_count": 27,
   "id": "b7d982fd-e346-414d-9c9e-e17e369a8f39",
   "metadata": {},
   "outputs": [],
   "source": [
    "df_dict.to_csv(\"dictdata.csv\", index = False)"
   ]
  },
  {
   "cell_type": "markdown",
   "id": "f4526bef-dbd4-481e-9e57-a6cc3be71ffb",
   "metadata": {},
   "source": [
    "Loading data"
   ]
  },
  {
   "cell_type": "code",
   "execution_count": 40,
   "id": "d4784bdf-22fe-402d-81e9-cc1af83290af",
   "metadata": {},
   "outputs": [
    {
     "name": "stdout",
     "output_type": "stream",
     "text": [
      "   preg  plas  pres  skin  insu  mass   pedi  age            class\n",
      "0   6.0   148  72.0  35.0     0  33.6  0.627   50  tested_positive\n",
      "1   1.0    85  66.0  29.0     0  26.6  0.351   31  tested_negative\n",
      "2   8.0   183  64.0   0.0     0  23.3  0.672   32  tested_positive\n",
      "3   1.0    89  66.0  23.0    94  28.1  0.167   21  tested_negative\n",
      "4   0.0   137  40.0  35.0   168  43.1  2.288   33  tested_positive\n",
      "5   5.0   116  74.0   0.0     0  25.6  0.201   30  tested_negative\n",
      "6   3.0    78  50.0  32.0    88  31.0  0.248   26  tested_positive\n"
     ]
    }
   ],
   "source": [
    "diab = pd.read_csv(r\"D:\\Datasets\\Csv_excel_txt\\diabetcsvsmall.csv\")\n",
    "print(diab.head(7))"
   ]
  },
  {
   "cell_type": "markdown",
   "id": "0b829dbb-5ab9-4ce7-85b8-540e4702a0bf",
   "metadata": {},
   "source": [
    "Clean the Data"
   ]
  },
  {
   "cell_type": "code",
   "execution_count": 42,
   "id": "9409768b-6352-4694-8c14-54dcfe23a967",
   "metadata": {},
   "outputs": [
    {
     "data": {
      "text/plain": [
       "preg     1\n",
       "plas     0\n",
       "pres     1\n",
       "skin     1\n",
       "insu     0\n",
       "mass     1\n",
       "pedi     1\n",
       "age      0\n",
       "class    0\n",
       "dtype: int64"
      ]
     },
     "execution_count": 42,
     "metadata": {},
     "output_type": "execute_result"
    }
   ],
   "source": [
    "diab.isnull().sum()"
   ]
  },
  {
   "cell_type": "code",
   "execution_count": 44,
   "id": "7df934bf-1d08-4c4d-b0c0-60a43dfa4658",
   "metadata": {},
   "outputs": [],
   "source": [
    "diab.dropna(inplace= True)"
   ]
  },
  {
   "cell_type": "code",
   "execution_count": 46,
   "id": "8c22a941-2df8-4568-aa88-18d3b9b8a64e",
   "metadata": {},
   "outputs": [
    {
     "name": "stdout",
     "output_type": "stream",
     "text": [
      "<class 'pandas.core.frame.DataFrame'>\n",
      "Index: 98 entries, 0 to 101\n",
      "Data columns (total 9 columns):\n",
      " #   Column  Non-Null Count  Dtype  \n",
      "---  ------  --------------  -----  \n",
      " 0   preg    98 non-null     float64\n",
      " 1   plas    98 non-null     int64  \n",
      " 2   pres    98 non-null     float64\n",
      " 3   skin    98 non-null     float64\n",
      " 4   insu    98 non-null     int64  \n",
      " 5   mass    98 non-null     float64\n",
      " 6   pedi    98 non-null     float64\n",
      " 7   age     98 non-null     int64  \n",
      " 8   class   98 non-null     object \n",
      "dtypes: float64(5), int64(3), object(1)\n",
      "memory usage: 7.7+ KB\n"
     ]
    }
   ],
   "source": [
    "diab.info()"
   ]
  },
  {
   "cell_type": "code",
   "execution_count": 48,
   "id": "ff732977-689a-4255-964b-c2a6ed28b234",
   "metadata": {},
   "outputs": [],
   "source": [
    "diab.drop_duplicates(inplace = True)"
   ]
  },
  {
   "cell_type": "code",
   "execution_count": 50,
   "id": "6da2ca61-c280-415e-96c0-6b21134bb8a2",
   "metadata": {},
   "outputs": [
    {
     "name": "stdout",
     "output_type": "stream",
     "text": [
      "<class 'pandas.core.frame.DataFrame'>\n",
      "Index: 96 entries, 0 to 101\n",
      "Data columns (total 9 columns):\n",
      " #   Column  Non-Null Count  Dtype  \n",
      "---  ------  --------------  -----  \n",
      " 0   preg    96 non-null     float64\n",
      " 1   plas    96 non-null     int64  \n",
      " 2   pres    96 non-null     float64\n",
      " 3   skin    96 non-null     float64\n",
      " 4   insu    96 non-null     int64  \n",
      " 5   mass    96 non-null     float64\n",
      " 6   pedi    96 non-null     float64\n",
      " 7   age     96 non-null     int64  \n",
      " 8   class   96 non-null     object \n",
      "dtypes: float64(5), int64(3), object(1)\n",
      "memory usage: 7.5+ KB\n"
     ]
    }
   ],
   "source": [
    "diab.info()"
   ]
  },
  {
   "cell_type": "markdown",
   "id": "5c990bf0-8900-4009-86b4-3e2663928256",
   "metadata": {},
   "source": [
    "Modify data"
   ]
  },
  {
   "cell_type": "code",
   "execution_count": 54,
   "id": "b108d134-f648-4fd0-9ed3-32931b1a5e0b",
   "metadata": {},
   "outputs": [],
   "source": [
    "diab['age'] = diab['age'].astype(float)"
   ]
  },
  {
   "cell_type": "code",
   "execution_count": 64,
   "id": "a4ad3319-cd16-4fa1-b339-61ad3a1d9d59",
   "metadata": {},
   "outputs": [],
   "source": [
    "filtered = diab[diab['age']>30]"
   ]
  },
  {
   "cell_type": "code",
   "execution_count": 66,
   "id": "f1d3a7f2-ca23-4c23-8b80-99e1cccc502f",
   "metadata": {},
   "outputs": [
    {
     "data": {
      "text/html": [
       "<div>\n",
       "<style scoped>\n",
       "    .dataframe tbody tr th:only-of-type {\n",
       "        vertical-align: middle;\n",
       "    }\n",
       "\n",
       "    .dataframe tbody tr th {\n",
       "        vertical-align: top;\n",
       "    }\n",
       "\n",
       "    .dataframe thead th {\n",
       "        text-align: right;\n",
       "    }\n",
       "</style>\n",
       "<table border=\"1\" class=\"dataframe\">\n",
       "  <thead>\n",
       "    <tr style=\"text-align: right;\">\n",
       "      <th></th>\n",
       "      <th>preg</th>\n",
       "      <th>plas</th>\n",
       "      <th>pres</th>\n",
       "      <th>skin</th>\n",
       "      <th>insu</th>\n",
       "      <th>mass</th>\n",
       "      <th>pedi</th>\n",
       "      <th>age</th>\n",
       "      <th>class</th>\n",
       "    </tr>\n",
       "  </thead>\n",
       "  <tbody>\n",
       "    <tr>\n",
       "      <th>0</th>\n",
       "      <td>6.0</td>\n",
       "      <td>148</td>\n",
       "      <td>72.0</td>\n",
       "      <td>35.0</td>\n",
       "      <td>0</td>\n",
       "      <td>33.6</td>\n",
       "      <td>0.627</td>\n",
       "      <td>50.0</td>\n",
       "      <td>tested_positive</td>\n",
       "    </tr>\n",
       "    <tr>\n",
       "      <th>1</th>\n",
       "      <td>1.0</td>\n",
       "      <td>85</td>\n",
       "      <td>66.0</td>\n",
       "      <td>29.0</td>\n",
       "      <td>0</td>\n",
       "      <td>26.6</td>\n",
       "      <td>0.351</td>\n",
       "      <td>31.0</td>\n",
       "      <td>tested_negative</td>\n",
       "    </tr>\n",
       "    <tr>\n",
       "      <th>2</th>\n",
       "      <td>8.0</td>\n",
       "      <td>183</td>\n",
       "      <td>64.0</td>\n",
       "      <td>0.0</td>\n",
       "      <td>0</td>\n",
       "      <td>23.3</td>\n",
       "      <td>0.672</td>\n",
       "      <td>32.0</td>\n",
       "      <td>tested_positive</td>\n",
       "    </tr>\n",
       "    <tr>\n",
       "      <th>4</th>\n",
       "      <td>0.0</td>\n",
       "      <td>137</td>\n",
       "      <td>40.0</td>\n",
       "      <td>35.0</td>\n",
       "      <td>168</td>\n",
       "      <td>43.1</td>\n",
       "      <td>2.288</td>\n",
       "      <td>33.0</td>\n",
       "      <td>tested_positive</td>\n",
       "    </tr>\n",
       "    <tr>\n",
       "      <th>8</th>\n",
       "      <td>2.0</td>\n",
       "      <td>197</td>\n",
       "      <td>70.0</td>\n",
       "      <td>45.0</td>\n",
       "      <td>543</td>\n",
       "      <td>30.5</td>\n",
       "      <td>0.158</td>\n",
       "      <td>53.0</td>\n",
       "      <td>tested_positive</td>\n",
       "    </tr>\n",
       "  </tbody>\n",
       "</table>\n",
       "</div>"
      ],
      "text/plain": [
       "   preg  plas  pres  skin  insu  mass   pedi   age            class\n",
       "0   6.0   148  72.0  35.0     0  33.6  0.627  50.0  tested_positive\n",
       "1   1.0    85  66.0  29.0     0  26.6  0.351  31.0  tested_negative\n",
       "2   8.0   183  64.0   0.0     0  23.3  0.672  32.0  tested_positive\n",
       "4   0.0   137  40.0  35.0   168  43.1  2.288  33.0  tested_positive\n",
       "8   2.0   197  70.0  45.0   543  30.5  0.158  53.0  tested_positive"
      ]
     },
     "execution_count": 66,
     "metadata": {},
     "output_type": "execute_result"
    }
   ],
   "source": [
    "filtered.head()"
   ]
  },
  {
   "cell_type": "code",
   "execution_count": 70,
   "id": "c5231983-8367-43c5-ac47-656a0ba1fb81",
   "metadata": {},
   "outputs": [
    {
     "name": "stdout",
     "output_type": "stream",
     "text": [
      "    preg  plas   pres  skin  insu  mass   pedi   age            class\n",
      "93   4.0   134   72.0   0.0     0  23.8  0.277  60.0  tested_positive\n",
      "30   5.0   109   75.0  26.0     0  36.0  0.546  60.0  tested_negative\n",
      "13   1.0   189   60.0  23.0   846  30.1  0.398  59.0  tested_positive\n",
      "53   8.0   176   90.0  34.0   300  33.7  0.467  58.0  tested_positive\n",
      "28  13.0   145   82.0  19.0   110  22.2  0.245  57.0  tested_negative\n",
      "12  10.0   139   80.0   0.0     0  27.1  1.441  57.0  tested_negative\n",
      "39   4.0   111   72.0  47.0   207  37.1  1.390  56.0  tested_positive\n",
      "67   2.0   109   92.0   0.0     0  42.7  0.845  54.0  tested_negative\n",
      "43   9.0   171  110.0  24.0   240  45.4  0.721  54.0  tested_positive\n",
      "9    8.0   125   96.0   0.0     0   0.0  0.232  54.0  tested_positive\n"
     ]
    }
   ],
   "source": [
    "sorted_df = diab.sort_values(by= 'age', ascending = False)\n",
    "print(sorted_df.head(10))"
   ]
  },
  {
   "cell_type": "code",
   "execution_count": 72,
   "id": "7142c681-663f-489e-860a-4aaf5eb49c14",
   "metadata": {},
   "outputs": [
    {
     "name": "stdout",
     "output_type": "stream",
     "text": [
      "class\n",
      "tested_negative    31.508197\n",
      "tested_positive    40.371429\n",
      "Name: age, dtype: float64\n"
     ]
    }
   ],
   "source": [
    "#Groupby class and calculate average age\n",
    "grouped = diab.groupby('class')['age'].mean()\n",
    "print(grouped)"
   ]
  },
  {
   "cell_type": "code",
   "execution_count": 74,
   "id": "a8c5a1f0-6aec-45d3-867b-f428cdffe193",
   "metadata": {},
   "outputs": [
    {
     "name": "stdout",
     "output_type": "stream",
     "text": [
      "age\n",
      "21.0     39.500000\n",
      "22.0     38.000000\n",
      "23.0    167.000000\n",
      "24.0     32.000000\n",
      "25.0     19.000000\n",
      "26.0     67.500000\n",
      "27.0    115.000000\n",
      "28.0    111.666667\n",
      "29.0      0.000000\n",
      "30.0      7.666667\n",
      "31.0     68.000000\n",
      "32.0     24.000000\n",
      "33.0    110.750000\n",
      "34.0     88.000000\n",
      "35.0      0.000000\n",
      "36.0     35.500000\n",
      "37.0      0.000000\n",
      "38.0      0.000000\n",
      "39.0      0.000000\n",
      "40.0    114.000000\n",
      "41.0    104.750000\n",
      "42.0     97.500000\n",
      "43.0     55.000000\n",
      "44.0      0.000000\n",
      "45.0      0.000000\n",
      "46.0      0.000000\n",
      "48.0      0.000000\n",
      "50.0      0.000000\n",
      "51.0    160.500000\n",
      "53.0    543.000000\n",
      "54.0     80.000000\n",
      "56.0    207.000000\n",
      "57.0     55.000000\n",
      "58.0    300.000000\n",
      "59.0    846.000000\n",
      "60.0      0.000000\n",
      "Name: insu, dtype: float64\n"
     ]
    }
   ],
   "source": [
    "#Groupby age and calculate average insu\n",
    "grouped1 = diab.groupby('age')['insu'].mean()\n",
    "print(grouped1)"
   ]
  },
  {
   "cell_type": "code",
   "execution_count": null,
   "id": "653b879f-8261-4415-b5b4-c8d188be17a3",
   "metadata": {},
   "outputs": [],
   "source": []
  },
  {
   "cell_type": "code",
   "execution_count": null,
   "id": "655c2bd7-7e2b-413c-b2fe-b4b43421491f",
   "metadata": {},
   "outputs": [],
   "source": []
  },
  {
   "cell_type": "code",
   "execution_count": null,
   "id": "5ce6946d-f62b-4aea-9b78-d99e4ce27963",
   "metadata": {},
   "outputs": [],
   "source": []
  },
  {
   "cell_type": "code",
   "execution_count": null,
   "id": "b6158ad4-3a04-4599-86e9-10c45cea88cd",
   "metadata": {},
   "outputs": [],
   "source": []
  },
  {
   "cell_type": "code",
   "execution_count": null,
   "id": "9ca8a707-d81f-4e24-b496-57573ee638a8",
   "metadata": {},
   "outputs": [],
   "source": []
  }
 ],
 "metadata": {
  "kernelspec": {
   "display_name": "Python [conda env:base] *",
   "language": "python",
   "name": "conda-base-py"
  },
  "language_info": {
   "codemirror_mode": {
    "name": "ipython",
    "version": 3
   },
   "file_extension": ".py",
   "mimetype": "text/x-python",
   "name": "python",
   "nbconvert_exporter": "python",
   "pygments_lexer": "ipython3",
   "version": "3.12.4"
  }
 },
 "nbformat": 4,
 "nbformat_minor": 5
}
